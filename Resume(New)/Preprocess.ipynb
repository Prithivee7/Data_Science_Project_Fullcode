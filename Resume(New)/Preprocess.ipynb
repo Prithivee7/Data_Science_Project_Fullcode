{
 "metadata": {
  "language_info": {
   "codemirror_mode": {
    "name": "ipython",
    "version": 3
   },
   "file_extension": ".py",
   "mimetype": "text/x-python",
   "name": "python",
   "nbconvert_exporter": "python",
   "pygments_lexer": "ipython3",
   "version": "3.9.4"
  },
  "orig_nbformat": 2,
  "kernelspec": {
   "name": "python394jvsc74a57bd093e94fe6ca7abce744c184f852f1eecfdc7f73671430f85d9f4f4b7f058b6d13",
   "display_name": "Python 3.9.4 64-bit"
  },
  "metadata": {
   "interpreter": {
    "hash": "93e94fe6ca7abce744c184f852f1eecfdc7f73671430f85d9f4f4b7f058b6d13"
   }
  }
 },
 "nbformat": 4,
 "nbformat_minor": 2,
 "cells": [
  {
   "cell_type": "code",
   "execution_count": 48,
   "metadata": {},
   "outputs": [],
   "source": [
    "import pandas as pd"
   ]
  },
  {
   "cell_type": "code",
   "execution_count": 49,
   "metadata": {},
   "outputs": [],
   "source": [
    "df = pd.read_csv('Resume.csv')"
   ]
  },
  {
   "cell_type": "code",
   "execution_count": 50,
   "metadata": {},
   "outputs": [],
   "source": [
    "# Removing index column\n",
    "df.drop(df.columns[[0]], axis = 1, inplace = True)"
   ]
  },
  {
   "cell_type": "code",
   "execution_count": 51,
   "metadata": {},
   "outputs": [
    {
     "output_type": "execute_result",
     "data": {
      "text/plain": [
       "50979"
      ]
     },
     "metadata": {},
     "execution_count": 51
    }
   ],
   "source": [
    "# Total number of rows\n",
    "len(df)"
   ]
  },
  {
   "cell_type": "code",
   "execution_count": 52,
   "metadata": {},
   "outputs": [],
   "source": [
    "# Removing Duplicates\n",
    "data = pd.DataFrame.drop_duplicates(df)"
   ]
  },
  {
   "cell_type": "code",
   "execution_count": 53,
   "metadata": {},
   "outputs": [
    {
     "output_type": "execute_result",
     "data": {
      "text/plain": [
       "39107"
      ]
     },
     "metadata": {},
     "execution_count": 53
    }
   ],
   "source": [
    "# Total number of rows after removing duplicates\n",
    "len(data)"
   ]
  },
  {
   "cell_type": "code",
   "execution_count": 54,
   "metadata": {},
   "outputs": [
    {
     "output_type": "stream",
     "name": "stderr",
     "text": [
      "<ipython-input-54-a34b915b2bfa>:21: SettingWithCopyWarning: \nA value is trying to be set on a copy of a slice from a DataFrame.\nTry using .loc[row_indexer,col_indexer] = value instead\n\nSee the caveats in the documentation: https://pandas.pydata.org/pandas-docs/stable/user_guide/indexing.html#returning-a-view-versus-a-copy\n  data['Current Location'] = current_location\n"
     ]
    }
   ],
   "source": [
    "# Removing duplicate city names from Current Location column\n",
    "current_location = data['Current Location'].tolist()\n",
    "for i in range(len(current_location)):\n",
    "    current_location[i] = current_location[i].strip()\n",
    "    if '/' in current_location[i]:\n",
    "        current_location[i] = current_location[i].split('/')[0].strip()\n",
    "    if current_location[i].lower() == 'bangalore':\n",
    "        current_location[i] = 'Bengaluru'\n",
    "    elif current_location[i].lower() == 'gurgaon':\n",
    "        current_location[i] = 'Gurugram'\n",
    "    elif current_location[i].lower() == 'trivandrum':\n",
    "        current_location[i] = 'thiruvananthapuram'\n",
    "    elif current_location[i].lower() == 'cochin':\n",
    "        current_location[i] = 'Kochi'\n",
    "    elif current_location[i].lower() == 'pondicherry':\n",
    "        current_location[i] = 'Puducherry'\n",
    "    elif current_location[i].lower() == 'mangalore':\n",
    "        current_location[i] = 'Mangaluru'\n",
    "    elif current_location[i].lower() == 'secunderabad':\n",
    "        current_location[i] = 'Hyderabad'\n",
    "data['Current Location'] = current_location"
   ]
  },
  {
   "cell_type": "code",
   "execution_count": 55,
   "metadata": {},
   "outputs": [
    {
     "output_type": "stream",
     "name": "stderr",
     "text": [
      "<ipython-input-55-848492e49305>:25: SettingWithCopyWarning: \nA value is trying to be set on a copy of a slice from a DataFrame.\nTry using .loc[row_indexer,col_indexer] = value instead\n\nSee the caveats in the documentation: https://pandas.pydata.org/pandas-docs/stable/user_guide/indexing.html#returning-a-view-versus-a-copy\n  data['Preferred Location'] = preferred_location\n"
     ]
    }
   ],
   "source": [
    "# Removing duplicate city names from Preferred Location column\n",
    "preferred_location = data['Preferred Location'].tolist()\n",
    "for i in range(len(preferred_location)):\n",
    "    if isinstance(preferred_location[i],str):\n",
    "        preferred_location[i] = preferred_location[i].strip()\n",
    "        locations = preferred_location[i].split(',')\n",
    "        for j in range(len(locations)):\n",
    "            if '/' in locations[j]:\n",
    "                locations[j] = locations[j].split('/')[0].strip()\n",
    "            if locations[j].lower() == 'bangalore':\n",
    "                locations[j] = 'Bengaluru'\n",
    "            elif locations[j].lower() == 'gurgaon':\n",
    "                locations[j] = 'Gurugram'\n",
    "            elif locations[j].lower() == 'trivandrum':\n",
    "                locations[j] = 'thiruvananthapuram'\n",
    "            elif locations[j].lower() == 'cochin':\n",
    "                locations[j] = 'Kochi'\n",
    "            elif locations[j].lower() == 'pondicherry':\n",
    "                locations[j] = 'Puducherry'\n",
    "            elif locations[j].lower() == 'mangalore':\n",
    "                locations[j] = 'Mangaluru'\n",
    "            elif locations[j].lower() == 'secunderabad':\n",
    "                locations[j] = 'Hyderabad'\n",
    "        preferred_location[i] = ','.join(locations)\n",
    "data['Preferred Location'] = preferred_location"
   ]
  },
  {
   "cell_type": "code",
   "execution_count": 56,
   "metadata": {},
   "outputs": [
    {
     "output_type": "stream",
     "name": "stderr",
     "text": [
      "<ipython-input-56-5a4996086876>:56: SettingWithCopyWarning: \nA value is trying to be set on a copy of a slice from a DataFrame.\nTry using .loc[row_indexer,col_indexer] = value instead\n\nSee the caveats in the documentation: https://pandas.pydata.org/pandas-docs/stable/user_guide/indexing.html#returning-a-view-versus-a-copy\n  data['Highest Degree'] = updated_highest_degree\n"
     ]
    }
   ],
   "source": [
    "# Preprocessing Highest Degree column\n",
    "highest_degree = data['Highest Degree'].tolist()\n",
    "updated_highest_degree = []\n",
    "# for i in highest_degree:\n",
    "#     try:\n",
    "#         updated_highest_degree.append(i.split('['))\n",
    "#     except:\n",
    "#         updated_highest_degree.append('None')\n",
    "# degree_set = set()\n",
    "# for i in updated_highest_degree:\n",
    "#     degree_set.add(i[0])\n",
    "# degree_set\n",
    "# branch_set = set()\n",
    "# for i in updated_highest_degree:\n",
    "#     if isinstance(i,list) and len(i) > 1:\n",
    "#         branch_set.add(i[1])\n",
    "#Diploma\n",
    "bachelors_degree_list = ['B tech', 'B-tech', 'B. Tech', 'B.A', 'B.B.A', 'B.M.S', 'B.Com', 'B.E', 'B.Ed', 'B.Pharma', 'B.Sc', 'B.Tech', 'B.Tech/B.E.', 'BA', 'BBM', 'BCA', 'BCCA', 'BE', 'BSC', 'BTEC', 'BTECH', 'Bachelor', 'Engineering']\n",
    "masters_degree_list = ['CA', 'CDAC', 'DM','Dual Degree', 'MTech', 'EPGP', 'Management', 'MBA', 'CMA', 'M.Sc', 'PG', 'M.A', 'M.C.A',\n",
    " 'M.Com', 'M.E', 'M.Tech', 'MCA', 'MCM', 'ME', 'MFA', 'MMS', 'MPHIL', 'MS', 'Master', 'PG diploma', 'POST GRADUATE',  'Post Graduate Diploma', 'Post-Graduate']\n",
    "doctorate_degree_list = ['Ph.D', 'Doctorate']\n",
    "\n",
    "for i in highest_degree:\n",
    "    if isinstance(i, float):\n",
    "        updated_highest_degree.append('None')\n",
    "        continue\n",
    "    flag = 0\n",
    "    for j in bachelors_degree_list:\n",
    "        if j.lower() in i.lower():\n",
    "            updated_highest_degree.append('Bachelor\\'s Degree')\n",
    "            flag = 1\n",
    "            break\n",
    "    if flag == 1:\n",
    "        continue\n",
    "    for j in masters_degree_list:\n",
    "        if j.lower() in i.lower():\n",
    "            updated_highest_degree.append('Master\\'s Degree')\n",
    "            flag = 1\n",
    "            break\n",
    "    if flag == 1:\n",
    "        continue\n",
    "    if 'Diploma'.lower() in i.lower():\n",
    "        updated_highest_degree.append('Diploma')\n",
    "        flag = 1\n",
    "    if flag == 1:\n",
    "        continue\n",
    "    for j in doctorate_degree_list:\n",
    "        if j.lower() in i.lower():\n",
    "            updated_highest_degree.append('Doctorate Degree')\n",
    "            flag = 1\n",
    "            break\n",
    "    if flag == 1:\n",
    "        continue\n",
    "    updated_highest_degree.append('Others')\n",
    "\n",
    "data['Highest Degree'] = updated_highest_degree\n"
   ]
  },
  {
   "cell_type": "code",
   "execution_count": 57,
   "metadata": {},
   "outputs": [
    {
     "output_type": "stream",
     "name": "stderr",
     "text": [
      "<ipython-input-57-63079a9a2fbb>:58: SettingWithCopyWarning: \nA value is trying to be set on a copy of a slice from a DataFrame.\nTry using .loc[row_indexer,col_indexer] = value instead\n\nSee the caveats in the documentation: https://pandas.pydata.org/pandas-docs/stable/user_guide/indexing.html#returning-a-view-versus-a-copy\n  data['UG'] = updated_ug\n"
     ]
    }
   ],
   "source": [
    "ug = data['UG'].tolist()\n",
    "updated_ug = []\n",
    "for i in ug:\n",
    "    if isinstance(i,str) and '(' in i:\n",
    "        updated_ug.append(i[i.find(\"(\")+1:i.find(\")\")])\n",
    "    else:\n",
    "        updated_ug.append('None')\n",
    "branches = {}\n",
    "branches['Accounting'] = ['Accounting', 'Account']\n",
    "branches['Aerospace'] = ['Aerospace']\n",
    "branches['Agriculture'] = ['Agriculture']\n",
    "branches['Arts'] = ['Arts', 'Applied Arts']\n",
    "branches['Electrical, Electronics & Communication'] = ['Electronic', 'Electrical', 'E.C.E', 'ECE', 'EEE', 'Communication', 'ENTC', 'I and E', 'Instrumentation']\n",
    "branches['Automobile'] = ['Automobile']\n",
    "branches['Political Science'] = ['Politics', 'Political Science']\n",
    "branches['Industry'] = ['ISE', 'Industry', 'Industrial', 'Production']\n",
    "branches['Biology'] = ['Bio']\n",
    "branches['Computers'] = ['C.S.E', 'Computer', 'CSE', 'IT', 'Java', 'HTML', 'SQL', 'Network', 'Software', 'I.T', 'Information', 'CS', 'Data']\n",
    "branches['Chemistry'] = ['Chemistry', 'Chemical']\n",
    "branches['Civil'] = ['Civil']\n",
    "branches['Commerce'] = ['Commerce']\n",
    "branches['Mathematics'] = ['Mathematics', 'Maths', 'Statistics']\n",
    "branches['Economics'] = ['Economic']\n",
    "branches['Education'] = ['Education']\n",
    "branches['English'] = ['English']\n",
    "branches['Finance'] = ['Finance']\n",
    "branches['Geology'] = ['Geology', 'Geography']\n",
    "branches['History'] = ['History']\n",
    "branches['Hotel Management'] = ['Hotel']\n",
    "branches['Hindi'] = ['Hindi']\n",
    "branches['Journalism'] = ['Journalism']\n",
    "branches['Management'] = ['HR', 'Management', 'Administration']\n",
    "branches['Science'] = ['B.Z.C', 'Botany', 'Physics', 'Science', 'Zoology']\n",
    "branches['Marketing'] = ['Marketing']\n",
    "branches['Mechanical'] = ['Mechanical', 'Robotic', 'Mechatronics', 'Robotics']\n",
    "branches['Metallurgy'] = ['Metallurgy']\n",
    "branches['Mining'] = ['Mining']\n",
    "branches['Petroleum'] = ['Petrol']\n",
    "branches['Pharmacy'] = ['Pharmacy']\n",
    "branches['Plastics'] = ['Plastics']\n",
    "branches['Psychology'] = ['Psychology']\n",
    "branches['Sociology'] = ['Social']\n",
    "\n",
    "for i in range(len(updated_ug)):\n",
    "    if updated_ug[i] != 'None':\n",
    "        flag = 0\n",
    "        for j in branches.keys():\n",
    "            for k in branches[j]:\n",
    "                if k.lower() in updated_ug[i].lower():\n",
    "                    updated_ug[i] = 'Degree in '+j\n",
    "                    flag = 1\n",
    "                    break\n",
    "            if flag == 1:\n",
    "                break\n",
    "        if flag == 0:\n",
    "            updated_ug[i] = 'Degree in Other Fields'\n",
    "\n",
    "data['UG'] = updated_ug"
   ]
  },
  {
   "cell_type": "code",
   "execution_count": 58,
   "metadata": {},
   "outputs": [
    {
     "output_type": "stream",
     "name": "stderr",
     "text": [
      "<ipython-input-58-e1710bf3cac3>:64: SettingWithCopyWarning: \nA value is trying to be set on a copy of a slice from a DataFrame.\nTry using .loc[row_indexer,col_indexer] = value instead\n\nSee the caveats in the documentation: https://pandas.pydata.org/pandas-docs/stable/user_guide/indexing.html#returning-a-view-versus-a-copy\n  data['PG'] = updated_pg\n"
     ]
    }
   ],
   "source": [
    "pg = data['PG'].tolist()\n",
    "updated_pg = []\n",
    "\n",
    "for i in pg:\n",
    "    if '(' in i:\n",
    "        updated_pg.append(i[i.find(\"(\")+1:i.find(\")\")])\n",
    "    else:\n",
    "        updated_pg.append('None')\n",
    "\n",
    "branches = {}\n",
    "branches['Accounting'] = ['Accounting', 'Account']\n",
    "branches['Aerospace'] = ['Aerospace', 'Aviation']\n",
    "branches['Agriculture'] = ['Agriculture']\n",
    "branches['Arts'] = ['Arts', 'Applied Arts']\n",
    "branches['Electrical, Electronics & Communication'] = ['Electronic', 'Electrical', 'E.C.E', 'ECE', 'EEE', 'Communication', 'ENTC', 'I and E', 'Instrumentation', 'Embedded', 'VLSI']\n",
    "branches['Automobile'] = ['Automobile']\n",
    "branches['Political Science'] = ['Politics', 'Political Science']\n",
    "branches['Industry'] = ['ISE', 'Industry', 'Industrial', 'Production', 'Manufacturing']\n",
    "branches['Biology'] = ['Bio']\n",
    "branches['Computers'] = ['C.S.E', 'Computer', 'CSE', 'IT', 'Java', 'HTML', 'SQL', 'Network', 'Software', 'I.T', 'Information', 'CS', 'Data', 'AI', 'ML', 'Computing', 'Analytics', 'Application Development', 'Artificial Intelligence', 'Machine Learning', 'Big Data', 'CDAC', 'Data Science', 'Deep Learning', 'Game', 'Internet of Things', 'Machine Intelligence', 'Mining', 'Network', 'DAC', 'System', 'Technical', 'Web', 'WMC', 'Mobile Computing', 'Cloud Computing']\n",
    "branches['Chemistry'] = ['Chemistry', 'Chemical']\n",
    "branches['Civil'] = ['Civil']\n",
    "branches['Commerce'] = ['Commerce']\n",
    "branches['Mathematics'] = ['Mathematics', 'Maths', 'Statistics']\n",
    "branches['Economics'] = ['Economic']\n",
    "branches['Education'] = ['Education']\n",
    "branches['English'] = ['English']\n",
    "branches['Finance'] = ['Finance']\n",
    "branches['Geology'] = ['Geology', 'Geography']\n",
    "branches['History'] = ['History']\n",
    "branches['Hotel Management'] = ['Hotel']\n",
    "branches['Hindi'] = ['Hindi']\n",
    "branches['Journalism'] = ['Journalism']\n",
    "branches['Business'] = ['Business']\n",
    "branches['Management'] = ['HR', 'Management', 'Administration', 'CMA', 'Human Resource', 'Operations', 'DMC', 'PR', 'Strategy']\n",
    "branches['Science'] = ['B.Z.C', 'Botany', 'Physics', 'Science', 'Zoology']\n",
    "branches['Marketing'] = ['Marketing', 'Market']\n",
    "branches['Mechanical'] = ['Mechanical', 'Robotic', 'Mechatronics', 'Robotics']\n",
    "branches['Metallurgy'] = ['Metallurgy']\n",
    "branches['Mining'] = ['Mining']\n",
    "branches['Petroleum'] = ['Petrol']\n",
    "branches['Pharmacy'] = ['Pharmacy']\n",
    "branches['Plastics'] = ['Plastics']\n",
    "branches['Psychology'] = ['Psychology']\n",
    "branches['Sociology'] = ['Social']\n",
    "branches['Banking'] = ['Banking']\n",
    "\n",
    "for i in range(len(updated_pg)):\n",
    "    if updated_pg[i] != 'None':\n",
    "        flag = 0\n",
    "        for j in branches.keys():\n",
    "            for k in branches[j]:\n",
    "                if k.lower() in updated_pg[i].lower():\n",
    "                    updated_pg[i] = 'Degree in '+j\n",
    "                    flag = 1\n",
    "                    break\n",
    "            if flag == 1:\n",
    "                break\n",
    "        if flag == 0:\n",
    "            updated_pg[i] = 'Degree in Other Fields'\n",
    "\n",
    "# for i in range(len(updated_pg)):\n",
    "#     print(pg[i] + ' -> ' + updated_pg[i])\n",
    "data['PG'] = updated_pg"
   ]
  },
  {
   "cell_type": "code",
   "execution_count": 59,
   "metadata": {},
   "outputs": [
    {
     "output_type": "stream",
     "name": "stderr",
     "text": [
      "<ipython-input-59-fa2129ace00d>:18: SettingWithCopyWarning: \nA value is trying to be set on a copy of a slice from a DataFrame.\nTry using .loc[row_indexer,col_indexer] = value instead\n\nSee the caveats in the documentation: https://pandas.pydata.org/pandas-docs/stable/user_guide/indexing.html#returning-a-view-versus-a-copy\n  data['IT Skills'] = IT_Skills\n<ipython-input-59-fa2129ace00d>:19: SettingWithCopyWarning: \nA value is trying to be set on a copy of a slice from a DataFrame.\nTry using .loc[row_indexer,col_indexer] = value instead\n\nSee the caveats in the documentation: https://pandas.pydata.org/pandas-docs/stable/user_guide/indexing.html#returning-a-view-versus-a-copy\n  data['IT Skills Experience'] = IT_Skills_Experience\n"
     ]
    }
   ],
   "source": [
    "# Preprocess IT Skills column and IT Skills Experience column\n",
    "IT_Skills = data['IT Skills'].tolist()\n",
    "IT_Skills_Experience = data['IT Skills Experience'].tolist()\n",
    "for i in range(len(IT_Skills)):\n",
    "    if isinstance(IT_Skills[i],str):\n",
    "        skill_list = IT_Skills[i].split(',')\n",
    "        experience_list = IT_Skills_Experience[i].split(',')\n",
    "        if 'Affirmative Action' in skill_list:\n",
    "            index = skill_list.index('Affirmative Action')\n",
    "            skill_list = skill_list[0:index]\n",
    "            experience_list = experience_list[0:index]\n",
    "        elif 'Affirmative Action Work Authorization' in skill_list:\n",
    "            index = skill_list.index('Affirmative Action Work Authorization')\n",
    "            skill_list = skill_list[0:index]\n",
    "            experience_list = experience_list[0:index]\n",
    "        IT_Skills[i] = ','.join(skill_list)\n",
    "        IT_Skills_Experience[i] = ','.join(experience_list)\n",
    "data['IT Skills'] = IT_Skills\n",
    "data['IT Skills Experience'] = IT_Skills_Experience"
   ]
  },
  {
   "cell_type": "code",
   "execution_count": 60,
   "metadata": {},
   "outputs": [],
   "source": [
    "# IT_Skills = set()\n",
    "ITSkills = ['XCBL', 'IDIT', 'CUDA', 'HTML',  'jQuery', 'Ajax', 'HILS', 'One Note', 'iBATIS', 'Flask', 'Citrix', 'NoSQL', 'SQL', 'ISTQB', 'Andriod Studio', 'Glue', 'Paradox', 'WDS', 'Perl', 'TCPDUMP', 'Java', 'FileNet', 'Putty', 'Eroom', 'HIVE', 'Nexus', 'SAP', 'Ado.net', 'Vsphere', 'Unix', 'PyTest', 'Splunk', 'Mokito', 'Balsamiq', 'Eclipse', 'Hibernate', 'JDBC', 'Tableau', 'Power BI', 'TensorFlow', 'Siebel', 'Solution Architecture', 'CANalyser', 'VB.Net', 'Apache', 'SolarWinds', 'J2SE', 'Netbackup', 'Redis','Salesforce', 'Windows', 'Linux', 'XML', 'JDK', 'TOAD', 'DUKPT', 'Gitlab', 'Webmethods', 'Devops', 'IWS Workspace', 'VHDL', 'Verilog', 'Git', 'SVN', 'VMWARE', 'HYBRIS', 'CISCO Packet Tracer', 'SDN', 'NFV', 'Rest API', 'J2EE', 'Solaris', 'GCP', 'PHP', 'DAC', 'Restful Web Services', 'Jenkins', 'MVC', 'QC', 'CSS', 'Selenium', 'Entity Framework', 'JSON', 'ThingWorx', 'NX', 'Log4j', 'Django', 'GO', 'Python', 'LibreOffice', 'Laravel', 'Active Directory', 'Iconic Framework', 'Docker', 'JSP', 'MeteorJS', 'Keil', 'UCSM',  'Minitab', 'DAQ', 'JPA', 'Ansible', 'Netbeans', 'JIRA', 'Ubuntu', 'Postman', 'Tally', 'Sublime', 'Action Script', 'LINQ', 'AEM', 'Telerik', 'ALM', 'Rally', 'AOP', 'APEX', 'API', 'ARM', 'AUTOSYS', 'ATG', 'AWT', 'Swing', 'AXIS', 'AXURE', 'ActiveMQ', 'Activiti', 'Adobe Analytics', 'Adobe Illustrator', 'Help Desk', 'Aerospike', 'Agilent', 'Aginity', 'Akka', 'Aldon', 'Alexa', 'Altiris', 'Android Studio', 'Aptana', 'Assembly', 'Atmega', 'Aurora', 'Auto Scaling', 'AutoSys', 'SAS', 'BMC', 'RDBMS', 'DBMS', 'Spark', 'DevSecOps', 'Beautiful Soup', 'Map Reduce', 'Blender', 'Block Chain', 'Bizagi', 'Blue Prism', 'CANOE', 'CATIA', 'Cordyd BPM', 'CTM', 'Cypress', 'Camunda', 'Cassandra', 'CloudWatch', 'Cloud Taleo', 'Confluence', 'Cosmos', 'CouchDB', 'Cron', 'Crystal Report', 'Crystal Xcelsius', 'Cucumber', 'DDS', 'DGLUX', 'Drupal', 'DT Studio', 'DOXYGEN', 'Data Director', 'Dell Boomi', 'Delphi', 'Discoverer', 'DocApp', 'Dojo', 'ECMAScript', 'EJB', 'ENOVIA', 'ESXI', 'ETL', 'EXTJS', 'Elastic Load Balancing', 'Flutter', 'Kotlin', 'Force.com', 'Fortify', 'Foundation', 'FreeBSD', 'FreeRTOs', 'Gerrit', 'Groovy', 'Gentran Integration suite', 'Gentran EDI suite', 'Glacier', 'Golden Gate', 'Google Cloud', 'GrayLog', 'Greenplum', 'Guidewire', 'Hana', 'HBASE', 'HUDSON', 'HighChart', 'Hiplink', 'Hortonworks', 'IBM BPM', 'IBM Clear Quest', 'IBM Cognos', 'IBM DB2', 'IBM MQ', 'IBM SPSS Modeler', 'IBM Sterling Integrator', 'IBM-WTX', 'IIS', 'Image Processing', 'IntelliJ', 'Installrite', 'Ionic', 'IOS', 'IOT', 'ITEXT', 'ITX', 'Impala', 'Incident Management', 'Informatica', 'Jasper', 'JBOSS', 'JD Edwards', 'JDeveloper', 'JEE', 'JSF', 'JUnit', 'JWT', 'JaCoCo', 'Design Patterns', 'Kibana', 'Loopback', 'Load Runner', 'Magento', 'MATLAB', 'MERN Stack', 'MEAN Stack', 'MQTT', 'MS Visio',  'Management Studio', 'Microsoft Exchange', 'Middleware', 'Numpy', 'Gunicorn', 'Httpd', 'Nifi', 'Scipy', 'Pandas', 'OAuth', 'OBIEE', 'Networking', 'Oozie', 'OpenCV', 'PEGA PRPC', 'PIG', 'Powershell', 'PeopleSoft', 'Perforce', 'Power Automate', 'PyCharm', 'Data Science', 'Cyclone', 'PyTorch', 'QAC', 'QT Creator', 'RPA', 'Redux', 'Remedy', 'SCALA', 'SCCM', 'SITECORE', 'SLES', 'SSIS', 'STRUTS', 'Zendesk', 'Servlet', 'SOAP', 'SOA', 'Sqoop', 'Swagger', 'Sybase', 'Teamcenter', 'Terraform', 'OATS', 'Toad', 'Tortoise', 'UML', 'VMWare', 'WINSCP', 'Websphere', 'Workbench', 'Gradle', 'iReport', 'Oracle']\n",
    "\n",
    "skills = {}\n",
    "skills['Scikit-Learn'] = ['Scikit-Learn', 'Scikit Learn', 'Scikit- Learn', 'Sci-kit Learn', 'Sciki Learn']\n",
    "skills['MS SQL Server'] = ['MS SQL Server', 'MS SQL-Server', 'MS SQLServer', 'MS-SQL Server', 'SQL Server', 'Microsoft SQL Server']\n",
    "skills['MS Office'] = ['MS PowerPoint', 'MS Power Point', 'MS Office', 'M S OFFICE', 'Excel', 'OFFICE365', 'Powerpoint', 'Microsoft Office', 'Word', 'Access', 'MS-Access', 'MS Excel', 'MS.Office', 'Power Point', 'Office 365']\n",
    "skills['Google Firebase'] = ['Google Firebase', 'Google Fire Base']\n",
    "skills['React JS'] = ['React.js', 'React JS', 'Reactjs', 'React']\n",
    "skills['Node JS'] = ['Node JS', 'Node.js', 'Nodejs', 'Node', 'Node-JS']\n",
    "skills['Vue JS'] = ['Vue JS', 'Vue.js', 'Vuejs', 'Vue']\n",
    "skills['Angular JS'] = ['Angular JS', 'Angular.js', 'Angularjs', 'Angular']\n",
    "skills['Express JS'] = ['Express JS', 'Express.js', 'Expressjs', 'Express', 'Express-JS']\n",
    "skills['Backbone JS'] = ['Backbone JS', 'Backbone.js', 'Backbonejs', 'Backbone']\n",
    "skills['Knockout JS'] = ['Knockout JS', 'Knockout.js', 'Knockoutjs', 'Knockout']\n",
    "skills['Next JS'] = ['Next JS', 'Next.js', 'Nextjs', 'Next']\n",
    "skills['D3 JS'] = ['D3 JS', 'D3.js', 'D3js', 'D3']\n",
    "skills['TyepScript'] = ['TypeScript', 'Type Script']\n",
    "skills['MySQL'] = ['MySQL', 'My-SQL', 'My SQL']\n",
    "skills['MS SQL'] = ['MSSQL', 'MS-SQL', 'MS SQL', 'MS - SQL']\n",
    "skills['React Native'] = ['React Native', 'React-Native']\n",
    "skills['SharePoint'] = ['SharePoint', 'Share Point']\n",
    "skills['Mobile Application Development'] = ['Mobile Application Development', 'Mobile App Dev', 'Mobile App Development']\n",
    "skills['Full Stack Development'] = ['Full Stack Development', 'Full Stack']\n",
    "skills['Unit Testing'] = ['Unit Test', 'Unitest']\n",
    "skills['Workflow'] = ['WorkFlow', 'Work Flow']\n",
    "skills['MongoDB'] = ['MonogDB', 'Mongo DB']\n",
    "skills['Spring Framework'] = ['Spring', 'Spring MVC', 'Maven', 'Spring Boot', 'Spring Maven', 'SpringBoot']\n",
    "skills['AWS'] = ['AWS', 'Amazon Web Services', 'Amazon Web Service']\n",
    "skills['CodeIgniter'] = ['CodeIgniter', 'Code Igniter']\n",
    "skills['TIBCO'] = ['TIBCO', 'TIBCO Administrator']\n",
    "skills['C++'] = ['C++', 'C ++', 'Cpp']\n",
    "skills['Apache Hadoop'] = ['Apache Hadoop', 'Hadoop', 'HDFS']\n",
    "skills['Javascript'] = ['Javascript', 'Java Script', 'JS']\n",
    "skills['Microsoft Visual Studio'] = ['Visual Studio', 'VS Code', 'VS-Code']\n",
    "skills['Microsoft Azure'] = ['Azure']\n",
    "skills['GitHub'] = ['Git Hub', 'GitHub']\n",
    "skills['Agile Methodolgy'] = ['Agile', 'Scrum']\n",
    "skills['Notepad++'] = ['Notepad++', 'Notepad ++']\n",
    "skills['.Net'] = ['.Net', 'Dot Net', 'DOTNET', '. Net']\n",
    "skills['C#'] = ['C#', 'C #', 'C Sharp']\n",
    "skills['C'] = [' C ', '\\'C\\'']\n",
    "skills['R'] = [' R ', '\\'R\\'', ' R;', 'R-', 'R)']\n",
    "skills['VBScript'] = ['VBScript', 'VBS']\n",
    "skills['Micro Services'] = ['Micro Services', 'Microservices']\n",
    "skills['Microsoft Dynamics'] = ['Microsoft Dynamics', 'MS Dynamics', 'AX', 'Dynamics', 'Navision', 'NAV']\n",
    "skills['Artificial Intelligence'] = ['Artificial Intelligence', 'AI']\n",
    "skills['Machine Learning'] = ['Machine Learning', 'MachineLearning']\n",
    "skills['Qlik'] = ['Qlikview', 'Qlik']\n",
    "skills['ASP.NET'] = ['ASP.NET', 'ASP .NET', 'ASP. NET']\n",
    "skills['Visual Basic'] = ['Visual Basic', 'VB']\n",
    "skills['Atom'] = ['Atom', 'Atomm']\n",
    "skills['Ab Initio'] = ['Ab Initio', 'Ab-Initio', 'AbInitio']\n",
    "skills['Adobe FrameMaker'] = ['Adobe FrameMaker', 'Adobe Frame Maker', 'FrameMaker', 'Frame Maker']\n",
    "skills['Adobe Photoshop'] = ['Adobe Photoshop', 'Photoshop', 'Adobe PS', 'Photo Shop']\n",
    "skills['Algorithms'] = ['Algorithm', 'Algorithms']\n",
    "skills['Data Structures'] = ['Data Structures', 'Data Structure', 'DS']\n",
    "skills['Android Development'] = ['Android Development', 'Android Application Development', 'Android App Development']\n",
    "skills['ArborText Epic Editor'] = ['ArborText Epic Editor', 'Arbor Text Epic Editor']\n",
    "skills['Autocad'] = ['Autocad', 'Auto cad', 'Auto - cad']\n",
    "skills['Apache Tomcat'] = ['Apache Tomcat', 'Tomcat']\n",
    "skills['Automation Anywhere'] = ['Automation Anywhere', 'AutomationAnywhere']\n",
    "skills['WebLogic'] = ['WebLogic', 'Web Logic']\n",
    "skills['Bitbucket'] = ['Bitbucket', 'Bit Bucket', 'Big-buket', 'Bitbuket']\n",
    "skills['BASH Shell'] = ['BASH Shell', 'Bash']\n",
    "skills['Big Data'] = ['Big Data', 'Big-Data', 'BigData']\n",
    "skills['Bootstrap'] = ['Bootstrap', 'Boot Strap']\n",
    "skills['Bugzilla'] = ['Bugzilla', 'Bug zilla', 'Bugzila']\n",
    "skills['Business Objects'] = ['Business Objects', 'Business Object']\n",
    "skills['CentOS'] = ['CentOS', 'Cent OS']\n",
    "skills['ClearCase'] = ['ClearCase', 'Clear Case', 'ClearC ase']\n",
    "skills['ClearQuest'] = ['ClearQuest', 'Clear Quest']\n",
    "skills['ClickUp'] = ['ClickUp', 'Click Up']\n",
    "skills['ColdFusion'] = ['ColdFusion', 'Cold Fusion']\n",
    "skills['Collection Framework'] = ['Collection Framework', 'Collections Framework']\n",
    "skills['Control-M'] = ['Control-M', 'Control - M', 'Control -M', 'ControlM']\n",
    "skills['CyberArk'] = ['CyberArk', 'CyberArc', 'Cyber Ark', 'Cyber Arc']\n",
    "skills['Data Warehousing'] = ['Data Warehousing', 'Datawarehousing', 'Dataware housing']\n",
    "skills['Distributed Systems'] = ['Distributed Systems', 'Distributed System']\n",
    "skills['Draw.io'] = ['Draw.io', 'Draw I.O', 'Draw IO', 'Drawio']\n",
    "skills['Adobe Dreamweaver'] = ['Dreamweaver', 'Dream Weaver']\n",
    "skills['Dynamo DB'] = ['DynamoDB', 'Dynamo DB']\n",
    "skills['EditPlus'] = ['EditPlus', 'Edit+', 'Edit Plus']\n",
    "skills['Elastic Search'] = ['Elastic Search', 'Elastic Seach', 'ElasticSearch']\n",
    "skills['Ehcache'] = ['Ehcache', 'Eh cache']\n",
    "skills['GlassFish'] = ['GlassFish', 'Glass Fish']\n",
    "skills['HP Quality Center'] = ['HP Quality Center', 'HP Quality Centre', 'Quality Center', 'Quality Centre']\n",
    "skills['IBM AIX'] = ['IBM -AIX', 'IBM AIX', 'AIX']\n",
    "skills['OOPS'] = ['OOP', 'OOPS', 'OOP\\'S', 'Object Oriented Programming', 'Object Orient Programming', 'Object-Oriented Programming']\n",
    "skills['Kali Linux'] = ['Kali Linux', 'Kali']\n",
    "skills['Kubernetes'] = ['Kubernetes', 'Kubernates', 'Kubernets', 'Kubernities']\n",
    "skills['Red Hat Linux'] = ['Red Hat Linux', 'Red Hat', 'RHEL', 'RedHat']\n",
    "skills['Micro Services'] = ['Micro Services', 'MicroServices', 'Micro Service', 'Microservice', 'Micro-Service']\n",
    "skills['Mainframes'] = ['Mainframe', 'Mainframes']\n",
    "skills['Multithreading'] = ['Multithreading', 'Multi-Threading', 'Multi Threading']\n",
    "skills['Net Beans'] = ['Net Bean', 'Net Beans', 'Net-Bean', 'NetBean', 'Net-Beans', 'NetBeans']\n",
    "skills['NLP'] = ['Natural Language Processing', 'NLP']\n",
    "skills['Neural Networks'] = ['Neural Net', 'Neural Network']\n",
    "skills['Nginx'] = ['Nginx', 'Nginix']\n",
    "skills['Objective C'] = ['Objective C', 'Objective-C', 'ObjectiveC']\n",
    "skills['PostgreSQL'] = ['Postgres', 'PostgreSQL', 'Postgre']\n",
    "skills['ServiceNow'] = ['ServiceNow', 'Service Now', 'Service-Now', 'Service- Now']\n",
    "skills['Socket.IO'] = ['Socket.IO', 'Socket .io', 'SocketIO']\n",
    "skills['WildFly'] = ['Wild Fly', 'WildFly']\n",
    "skills['IBM DataStage'] = ['DataStage']\n",
    "\n",
    "dict_values = []\n",
    "for i in skills.keys():\n",
    "    dict_values.extend(skills[i])\n",
    "\n",
    "Overall_Skills = []\n",
    "Overall_Skills.extend(ITSkills)\n",
    "Overall_Skills.extend(dict_values)\n",
    "\n",
    "Overall_Skills = sorted(Overall_Skills, key = len, reverse=True)"
   ]
  },
  {
   "cell_type": "code",
   "execution_count": 61,
   "metadata": {},
   "outputs": [],
   "source": [
    "def getKey(value):\n",
    "    flag = 0\n",
    "    for key in skills.keys():\n",
    "        for i in skills[key]:\n",
    "            if i.lower() == value:\n",
    "                return key\n",
    "    return 'None'"
   ]
  },
  {
   "cell_type": "code",
   "execution_count": 62,
   "metadata": {},
   "outputs": [
    {
     "output_type": "stream",
     "name": "stderr",
     "text": [
      "<ipython-input-62-f841b1f9d82a>:31: SettingWithCopyWarning: \nA value is trying to be set on a copy of a slice from a DataFrame.\nTry using .loc[row_indexer,col_indexer] = value instead\n\nSee the caveats in the documentation: https://pandas.pydata.org/pandas-docs/stable/user_guide/indexing.html#returning-a-view-versus-a-copy\n  data['IT Skills'] = IT_Skills\n<ipython-input-62-f841b1f9d82a>:32: SettingWithCopyWarning: \nA value is trying to be set on a copy of a slice from a DataFrame.\nTry using .loc[row_indexer,col_indexer] = value instead\n\nSee the caveats in the documentation: https://pandas.pydata.org/pandas-docs/stable/user_guide/indexing.html#returning-a-view-versus-a-copy\n  data['IT Skills Experience'] = IT_Skills_Experience\n"
     ]
    }
   ],
   "source": [
    "IT_Skills = data['IT Skills'].tolist()\n",
    "IT_Skills_Experience = data['IT Skills Experience'].tolist()\n",
    "for i in range(len(IT_Skills)):\n",
    "    if isinstance(IT_Skills[i],str):\n",
    "        skill_list = IT_Skills[i].split(',')\n",
    "        experience_list = IT_Skills_Experience[i].split(',')\n",
    "        updated_skill_list = []\n",
    "        updated_experience_list = []\n",
    "        for k in range(len(skill_list)):\n",
    "            if len(skill_list[k]) > 0:\n",
    "                flag = 0\n",
    "                skill = skill_list[k].lower()\n",
    "                for j in Overall_Skills:\n",
    "                    if j.lower() in skill.lower():\n",
    "                        key = getKey(j.lower())\n",
    "                        if key != 'None' and key not in updated_skill_list:\n",
    "                            updated_skill_list.append(key)\n",
    "                            updated_experience_list.append(experience_list[k])\n",
    "                        elif j not in updated_skill_list:\n",
    "                            updated_skill_list.append(j)\n",
    "                            updated_experience_list.append(experience_list[k])\n",
    "                        flag = 1\n",
    "                        skill = skill.replace(j.lower(),'')\n",
    "                    if len(skill) == 0:\n",
    "                        break\n",
    "                if flag == 0:\n",
    "                    updated_skill_list.append(skill_list[k])\n",
    "                    updated_experience_list.append(experience_list[k])\n",
    "        IT_Skills[i] = ','.join(updated_skill_list)\n",
    "        IT_Skills_Experience[i] = ','.join(updated_experience_list)\n",
    "data['IT Skills'] = IT_Skills\n",
    "data['IT Skills Experience'] = IT_Skills_Experience"
   ]
  },
  {
   "cell_type": "code",
   "execution_count": 63,
   "metadata": {},
   "outputs": [],
   "source": [
    "data.to_csv('Preprocessed Resume.csv', index=False)"
   ]
  }
 ]
}
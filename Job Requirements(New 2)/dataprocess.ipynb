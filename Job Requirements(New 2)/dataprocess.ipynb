{
 "metadata": {
  "language_info": {
   "codemirror_mode": {
    "name": "ipython",
    "version": 3
   },
   "file_extension": ".py",
   "mimetype": "text/x-python",
   "name": "python",
   "nbconvert_exporter": "python",
   "pygments_lexer": "ipython3",
   "version": "3.9.4"
  },
  "orig_nbformat": 2,
  "kernelspec": {
   "name": "python394jvsc74a57bd093e94fe6ca7abce744c184f852f1eecfdc7f73671430f85d9f4f4b7f058b6d13",
   "display_name": "Python 3.9.4 64-bit"
  },
  "metadata": {
   "interpreter": {
    "hash": "93e94fe6ca7abce744c184f852f1eecfdc7f73671430f85d9f4f4b7f058b6d13"
   }
  }
 },
 "nbformat": 4,
 "nbformat_minor": 2,
 "cells": [
  {
   "cell_type": "code",
   "execution_count": 1,
   "metadata": {},
   "outputs": [],
   "source": [
    "import pandas as pd"
   ]
  },
  {
   "cell_type": "code",
   "execution_count": 2,
   "metadata": {},
   "outputs": [],
   "source": [
    "# df = pd.read_csv('Job Requirements.csv', encoding='cp1252')\n",
    "df = pd.read_csv('Job Requirements.csv')"
   ]
  },
  {
   "cell_type": "code",
   "execution_count": 3,
   "metadata": {},
   "outputs": [
    {
     "output_type": "execute_result",
     "data": {
      "text/plain": [
       "                                           Job Title  \\\n",
       "0             Software Engineer - Software Developer   \n",
       "1                         Software developer - Linux   \n",
       "2                                 Software Developer   \n",
       "3                                 Software Developer   \n",
       "4  Fresher job openings For Software Developer / ...   \n",
       "\n",
       "                         Company   Experience                      Salary  \\\n",
       "0                        Agreeya  0 - 1 years               Not Disclosed   \n",
       "1                Siemens Limited  0 - 5 years               Not Disclosed   \n",
       "2                Siemens Limited  0 - 5 years               Not Disclosed   \n",
       "3        Testpress Tech Labs LLP  0 - 1 years   3,50,000 - 4,50,000 P.A.    \n",
       "4  Creative Hands HR Consultancy  0 - 2 years   4,00,000 - 6,00,000 P.A.    \n",
       "\n",
       "                                            Location  \\\n",
       "0                                               Pune   \n",
       "1                                Bangalore/Bengaluru   \n",
       "2                                Bangalore/Bengaluru   \n",
       "3                                            Chennai   \n",
       "4  Hyderabad/Secunderabad, Pune, Chennai, Jaipur,...   \n",
       "\n",
       "                                     Job Description                 Role  \\\n",
       "0      Responsible for design, development, modif...  Software Developer,   \n",
       "1       What are my responsibilities     The cand...  Software Developer,   \n",
       "2        Change the future with us!     We are lo...  Software Developer,   \n",
       "3   Job descriptionFull stack web/mobile applicat...  Software Developer,   \n",
       "4  Roles and Responsibilities�Immediate Requireme...    Testing Engineer,   \n",
       "\n",
       "                             Industry Type  \\\n",
       "0                IT Services & Consulting,   \n",
       "1  Electronic Components / Semiconductors,   \n",
       "2  Electronic Components / Semiconductors,   \n",
       "3                IT Services & Consulting,   \n",
       "4                IT Services & Consulting,   \n",
       "\n",
       "                                     Functional Area       Employment Type  \\\n",
       "0  IT Software - Application Programming, Mainten...  Full Time, Permanent   \n",
       "1  IT Software - Application Programming, Mainten...  Full Time, Permanent   \n",
       "2  IT Software - Application Programming, Mainten...  Full Time, Permanent   \n",
       "3  IT Software - Application Programming, Mainten...  Full Time, Permanent   \n",
       "4  IT Software - Application Programming, Mainten...  Full Time, Permanent   \n",
       "\n",
       "          Role Category                                                 UG  \\\n",
       "0  Programming & Design                 Any Graduate in Any Specialization   \n",
       "1  Programming & Design               B.Tech/B.E. in Production/Industrial   \n",
       "2  Programming & Design                 Any Graduate in Any Specialization   \n",
       "3  Programming & Design                           B.Tech/B.E. in Computers   \n",
       "4  Programming & Design  Graduation Not Required, Any Graduate in Any S...   \n",
       "\n",
       "                                                  PG  \\\n",
       "0                       Post Graduation Not Required   \n",
       "1            M.Tech in Electronics/Telecommunication   \n",
       "2                       Post Graduation Not Required   \n",
       "3                                               None   \n",
       "4  Any Postgraduate in Any Specialization, Post G...   \n",
       "\n",
       "                                           Doctorate  \\\n",
       "0                                               None   \n",
       "1                                               None   \n",
       "2                                               None   \n",
       "3                                               None   \n",
       "4  Doctorate Not Required, Any Doctorate in Any S...   \n",
       "\n",
       "                                          Key Skills  \\\n",
       "0  ['Unix', 'Computer science', 'Technical design...   \n",
       "1  ['Computer science', 'Software design', 'GIT',...   \n",
       "2  ['System architecture', 'Socket programming', ...   \n",
       "3  ['Software Development', 'RDBMS', 'Web Technol...   \n",
       "4  ['CNC Programming', 'css', 'c', 'Networking', ...   \n",
       "\n",
       "                                                Link  \n",
       "0  https://www.naukri.com/job-listings-software-e...  \n",
       "1  https://www.naukri.com/job-listings-software-d...  \n",
       "2  https://www.naukri.com/job-listings-software-d...  \n",
       "3  https://www.naukri.com/job-listings-software-d...  \n",
       "4  https://www.naukri.com/job-listings-fresher-op...  "
      ],
      "text/html": "<div>\n<style scoped>\n    .dataframe tbody tr th:only-of-type {\n        vertical-align: middle;\n    }\n\n    .dataframe tbody tr th {\n        vertical-align: top;\n    }\n\n    .dataframe thead th {\n        text-align: right;\n    }\n</style>\n<table border=\"1\" class=\"dataframe\">\n  <thead>\n    <tr style=\"text-align: right;\">\n      <th></th>\n      <th>Job Title</th>\n      <th>Company</th>\n      <th>Experience</th>\n      <th>Salary</th>\n      <th>Location</th>\n      <th>Job Description</th>\n      <th>Role</th>\n      <th>Industry Type</th>\n      <th>Functional Area</th>\n      <th>Employment Type</th>\n      <th>Role Category</th>\n      <th>UG</th>\n      <th>PG</th>\n      <th>Doctorate</th>\n      <th>Key Skills</th>\n      <th>Link</th>\n    </tr>\n  </thead>\n  <tbody>\n    <tr>\n      <th>0</th>\n      <td>Software Engineer - Software Developer</td>\n      <td>Agreeya</td>\n      <td>0 - 1 years</td>\n      <td>Not Disclosed</td>\n      <td>Pune</td>\n      <td>Responsible for design, development, modif...</td>\n      <td>Software Developer,</td>\n      <td>IT Services &amp; Consulting,</td>\n      <td>IT Software - Application Programming, Mainten...</td>\n      <td>Full Time, Permanent</td>\n      <td>Programming &amp; Design</td>\n      <td>Any Graduate in Any Specialization</td>\n      <td>Post Graduation Not Required</td>\n      <td>None</td>\n      <td>['Unix', 'Computer science', 'Technical design...</td>\n      <td>https://www.naukri.com/job-listings-software-e...</td>\n    </tr>\n    <tr>\n      <th>1</th>\n      <td>Software developer - Linux</td>\n      <td>Siemens Limited</td>\n      <td>0 - 5 years</td>\n      <td>Not Disclosed</td>\n      <td>Bangalore/Bengaluru</td>\n      <td>What are my responsibilities     The cand...</td>\n      <td>Software Developer,</td>\n      <td>Electronic Components / Semiconductors,</td>\n      <td>IT Software - Application Programming, Mainten...</td>\n      <td>Full Time, Permanent</td>\n      <td>Programming &amp; Design</td>\n      <td>B.Tech/B.E. in Production/Industrial</td>\n      <td>M.Tech in Electronics/Telecommunication</td>\n      <td>None</td>\n      <td>['Computer science', 'Software design', 'GIT',...</td>\n      <td>https://www.naukri.com/job-listings-software-d...</td>\n    </tr>\n    <tr>\n      <th>2</th>\n      <td>Software Developer</td>\n      <td>Siemens Limited</td>\n      <td>0 - 5 years</td>\n      <td>Not Disclosed</td>\n      <td>Bangalore/Bengaluru</td>\n      <td>Change the future with us!     We are lo...</td>\n      <td>Software Developer,</td>\n      <td>Electronic Components / Semiconductors,</td>\n      <td>IT Software - Application Programming, Mainten...</td>\n      <td>Full Time, Permanent</td>\n      <td>Programming &amp; Design</td>\n      <td>Any Graduate in Any Specialization</td>\n      <td>Post Graduation Not Required</td>\n      <td>None</td>\n      <td>['System architecture', 'Socket programming', ...</td>\n      <td>https://www.naukri.com/job-listings-software-d...</td>\n    </tr>\n    <tr>\n      <th>3</th>\n      <td>Software Developer</td>\n      <td>Testpress Tech Labs LLP</td>\n      <td>0 - 1 years</td>\n      <td>3,50,000 - 4,50,000 P.A.</td>\n      <td>Chennai</td>\n      <td>Job descriptionFull stack web/mobile applicat...</td>\n      <td>Software Developer,</td>\n      <td>IT Services &amp; Consulting,</td>\n      <td>IT Software - Application Programming, Mainten...</td>\n      <td>Full Time, Permanent</td>\n      <td>Programming &amp; Design</td>\n      <td>B.Tech/B.E. in Computers</td>\n      <td>None</td>\n      <td>None</td>\n      <td>['Software Development', 'RDBMS', 'Web Technol...</td>\n      <td>https://www.naukri.com/job-listings-software-d...</td>\n    </tr>\n    <tr>\n      <th>4</th>\n      <td>Fresher job openings For Software Developer / ...</td>\n      <td>Creative Hands HR Consultancy</td>\n      <td>0 - 2 years</td>\n      <td>4,00,000 - 6,00,000 P.A.</td>\n      <td>Hyderabad/Secunderabad, Pune, Chennai, Jaipur,...</td>\n      <td>Roles and Responsibilities�Immediate Requireme...</td>\n      <td>Testing Engineer,</td>\n      <td>IT Services &amp; Consulting,</td>\n      <td>IT Software - Application Programming, Mainten...</td>\n      <td>Full Time, Permanent</td>\n      <td>Programming &amp; Design</td>\n      <td>Graduation Not Required, Any Graduate in Any S...</td>\n      <td>Any Postgraduate in Any Specialization, Post G...</td>\n      <td>Doctorate Not Required, Any Doctorate in Any S...</td>\n      <td>['CNC Programming', 'css', 'c', 'Networking', ...</td>\n      <td>https://www.naukri.com/job-listings-fresher-op...</td>\n    </tr>\n  </tbody>\n</table>\n</div>"
     },
     "metadata": {},
     "execution_count": 3
    }
   ],
   "source": [
    "df.head()"
   ]
  },
  {
   "cell_type": "code",
   "execution_count": 4,
   "metadata": {},
   "outputs": [],
   "source": [
    "# Preprocessing Location Column\n",
    "locations = df['Location'].tolist()\n",
    "for i in range(len(locations)):\n",
    "    if isinstance(locations[i],str):\n",
    "        while '(' in locations[i] and ')' in locations[i]:\n",
    "            index1 = locations[i].index('(')\n",
    "            index2 = locations[i].index(')')\n",
    "            locations[i] = locations[i].replace(locations[i][index1:index2+1],'')\n",
    "            \n",
    "        places = locations[i].split(',')\n",
    "        for j in range(len(places)):\n",
    "            if '/' in places[j]:\n",
    "                places[j] = places[j].split('/')[0].strip()\n",
    "            else:\n",
    "                places[j] = places[j].strip()\n",
    "        places = places[0:8]\n",
    "        locations[i] = ','.join(places)\n",
    "\n",
    "df['Location'] = locations\n"
   ]
  },
  {
   "cell_type": "code",
   "execution_count": 5,
   "metadata": {},
   "outputs": [],
   "source": [
    "# Removed trailing spaces from Job Description Column\n",
    "job_description = df['Job Description'].tolist()\n",
    "for i in range(len(job_description)):\n",
    "    job_description[i] = job_description[i].strip()\n",
    "df['Job Description'] = job_description"
   ]
  },
  {
   "cell_type": "code",
   "execution_count": 6,
   "metadata": {},
   "outputs": [],
   "source": [
    "# Removed ',' at the end of the string from Role column\n",
    "role = df['Role'].tolist()\n",
    "\n",
    "for i in range(len(role)):\n",
    "    if role[i][-1] == ',':\n",
    "        role[i] = role[i][0:-1]\n",
    "df['Role'] = role"
   ]
  },
  {
   "cell_type": "code",
   "execution_count": 7,
   "metadata": {},
   "outputs": [],
   "source": [
    "# Preprocessed Industry Type column\n",
    "industry_type = df['Industry Type'].tolist()\n",
    "\n",
    "for i in range(len(industry_type)):\n",
    "    if industry_type[i][-1] == ',':\n",
    "        industry_type[i] = industry_type[i][0:-1]\n",
    "\n",
    "df['Industry Type'] = industry_type"
   ]
  },
  {
   "cell_type": "code",
   "execution_count": 8,
   "metadata": {},
   "outputs": [],
   "source": [
    "# Preprocessed Functional Area Column\n",
    "functional_area = df['Functional Area'].tolist()\n",
    "\n",
    "for i in range(len(functional_area)):\n",
    "    if functional_area[i][-1] == ',':\n",
    "        functional_area[i] = functional_area[i][0:-1]\n",
    "\n",
    "df['Functional Area'] = functional_area"
   ]
  },
  {
   "cell_type": "code",
   "execution_count": 9,
   "metadata": {},
   "outputs": [],
   "source": [
    "# Preprocessed Key Skills Column\n",
    "key_skills = df['Key Skills'].tolist()\n",
    "\n",
    "for i in range(len(key_skills)):\n",
    "    if isinstance(key_skills[i],str):\n",
    "        key_skills[i] = key_skills[i].replace('[','')\n",
    "        key_skills[i] = key_skills[i].replace(']','')\n",
    "        sample_list = key_skills[i].split(',')\n",
    "        for j in range(len(sample_list)):\n",
    "            sample_list[j] = sample_list[j].strip()[1:-1]\n",
    "        key_skills[i] = ','.join(sample_list)\n",
    "\n",
    "df['Key Skills'] = key_skills"
   ]
  },
  {
   "cell_type": "code",
   "execution_count": 10,
   "metadata": {},
   "outputs": [],
   "source": [
    "resume_data = pd.read_csv('Preprocessed Resume Data2.csv')"
   ]
  },
  {
   "cell_type": "code",
   "execution_count": 11,
   "metadata": {},
   "outputs": [],
   "source": [
    "IT_Skills = set()\n",
    "\n",
    "for i in range(1,31):\n",
    "    for skill in resume_data['IT Skill ' + str(i)]:\n",
    "        if not isinstance(skill, float):\n",
    "            try:\n",
    "                skill = float(skill)\n",
    "            except:\n",
    "                if len(skill) > 2:\n",
    "                    IT_Skills.add(skill)\n",
    "\n",
    "IT_Skills = list(IT_Skills)\n",
    "IT_Skills = sorted(IT_Skills, key=len, reverse=True)"
   ]
  },
  {
   "cell_type": "code",
   "execution_count": 12,
   "metadata": {},
   "outputs": [],
   "source": [
    "Job_IT_Skills = []\n",
    "\n",
    "for job_description in df['Job Description']:\n",
    "    description = job_description\n",
    "    sample_list = []\n",
    "    for skill in IT_Skills:\n",
    "        if skill.lower() in description.lower():\n",
    "            sample_list.append(skill)\n",
    "            description = description.replace(skill.lower(), '')\n",
    "    Job_IT_Skills.append(list(set(sample_list)))"
   ]
  },
  {
   "cell_type": "code",
   "execution_count": 13,
   "metadata": {},
   "outputs": [
    {
     "output_type": "execute_result",
     "data": {
      "text/plain": [
       "252"
      ]
     },
     "metadata": {},
     "execution_count": 13
    }
   ],
   "source": [
    "max = 0\n",
    "for i in Job_IT_Skills:\n",
    "    if len(i) > max:\n",
    "        max = len(i)\n",
    "max"
   ]
  },
  {
   "cell_type": "code",
   "execution_count": 14,
   "metadata": {},
   "outputs": [],
   "source": [
    "for i in range(len(Job_IT_Skills)):\n",
    "    Job_IT_Skills[i] = (',').join(Job_IT_Skills[i])\n",
    "\n",
    "df['IT Skills'] = Job_IT_Skills"
   ]
  },
  {
   "cell_type": "code",
   "execution_count": 15,
   "metadata": {},
   "outputs": [],
   "source": [
    "# Removing Trailing spaces in Experience Column\n",
    "salary = df['Salary'].tolist()\n",
    "\n",
    "for i in range(len(salary)):\n",
    "    salary[i] = salary[i].strip()\n",
    "\n",
    "df['Salary'] = salary"
   ]
  },
  {
   "cell_type": "code",
   "execution_count": 16,
   "metadata": {},
   "outputs": [],
   "source": [
    "df.to_csv('Preprocessed Job Requirements.csv', index=False)"
   ]
  },
  {
   "cell_type": "code",
   "execution_count": null,
   "metadata": {},
   "outputs": [],
   "source": []
  }
 ]
}
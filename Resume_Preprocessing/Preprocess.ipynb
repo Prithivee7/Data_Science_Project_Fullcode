{
 "metadata": {
  "language_info": {
   "codemirror_mode": {
    "name": "ipython",
    "version": 3
   },
   "file_extension": ".py",
   "mimetype": "text/x-python",
   "name": "python",
   "nbconvert_exporter": "python",
   "pygments_lexer": "ipython3",
   "version": "3.8.2-final"
  },
  "orig_nbformat": 2,
  "kernelspec": {
   "name": "python3",
   "display_name": "Python 3.8.2 32-bit",
   "metadata": {
    "interpreter": {
     "hash": "249919e00f7501aeebb24f2baedf1eaa50db3da7679bc878c9a66c582c667356"
    }
   }
  }
 },
 "nbformat": 4,
 "nbformat_minor": 2,
 "cells": [
  {
   "cell_type": "code",
   "execution_count": 121,
   "metadata": {},
   "outputs": [],
   "source": [
    "import pandas as pd"
   ]
  },
  {
   "cell_type": "code",
   "execution_count": 122,
   "metadata": {},
   "outputs": [],
   "source": [
    "data = pd.read_csv('Resume Data.csv')\n",
    "# data.head()"
   ]
  },
  {
   "cell_type": "code",
   "execution_count": 123,
   "metadata": {},
   "outputs": [],
   "source": [
    "# Removing duplicates from Current Location column\n",
    "current_location = data['Current Location'].tolist()\n",
    "for i in range(len(current_location)):\n",
    "    current_location[i] = current_location[i].strip()\n",
    "    if '/' in current_location[i]:\n",
    "        current_location[i] = current_location[i].split('/')[0].strip()\n",
    "data['Current Location'] = current_location"
   ]
  },
  {
   "cell_type": "code",
   "execution_count": 124,
   "metadata": {},
   "outputs": [],
   "source": [
    "# Splitting preferred locations in to different columns\n",
    "maximum = 0\n",
    "preferred_location = data['Preferred Location'].tolist()\n",
    "updated_list = []\n",
    "for location in preferred_location:\n",
    "    locations = location.split(',')\n",
    "    updated_locations = \"\"\n",
    "    for city in locations:\n",
    "        if '/' in city:\n",
    "            variable = city.split('/')\n",
    "            updated_locations = updated_locations + variable[0].strip() + ','\n",
    "        else:\n",
    "            updated_locations = updated_locations + city.strip() + ','\n",
    "    if len(locations) > maximum:\n",
    "        maximum = len(locations)\n",
    "    updated_list.append(updated_locations[0:-1])\n",
    "data['Preferred Location'] = updated_list\n",
    "data[['Preferred Location 1', 'Preferred Location 2', 'Preferred Location 3']] = data[\"Preferred Location\"].str.split(\",\", expand = True)\n",
    "# data.head()"
   ]
  },
  {
   "cell_type": "code",
   "execution_count": 125,
   "metadata": {
    "tags": []
   },
   "outputs": [],
   "source": [
    "# Splitting languages known column into different columns\n",
    "languagesList = ['english', 'telugu', 'hindi', 'tamil', 'kannada', 'bengali', 'german', 'french', 'japanese', 'konkani', 'marathi', 'malayalam', 'gujarati', 'spanish', 'punjabi', 'malayalam', 'oriya', 'odia', 'odiya', 'tulu', 'bhojpuri', 'mathli', 'arabic', 'danish', 'urdu', 'chinese', 'marwari', 'khasi', 'sanskrit', 'nepali', 'maithili', 'marwadi', 'assamese', 'sourashtra', 'korean', 'santali', 'oria', 'dogri', 'sindhi', 'rajasthani', 'nagamese', 'italian', 'kashmiri','swedish','mandarin','bangla','himachali','dutch']\n",
    "languages = data['Languages Known'].tolist()\n",
    "maximum = 0\n",
    "updated_languages_known = []\n",
    "for language in languages:\n",
    "    language_list = language.split(',')\n",
    "    updated_languages = ''\n",
    "    for i in language_list:\n",
    "        if i.strip().lower() in languagesList:\n",
    "            updated_languages = updated_languages + i.strip() + ','\n",
    "    if len(updated_languages) > 0 and updated_languages[-1] == ',':\n",
    "        updated_languages_known.append(updated_languages[0:-1])\n",
    "    else:\n",
    "        updated_languages_known.append(updated_languages)\n",
    "# for var in updated_languages_known:\n",
    "#     something = var.split(',')\n",
    "#     if len(something) > maximum:\n",
    "#         maximum = len(something)\n",
    "# maximum\n",
    "data['Languages Known'] = updated_languages_known\n",
    "data[['Languages Known 1', 'Languages Known 2', 'Languages Known 3', 'Languages Known 4', 'Languages Known 5', 'Languages Known 6']] = data['Languages Known'].str.split(\",\", expand = True)\n",
    "# data.head()"
   ]
  },
  {
   "cell_type": "code",
   "execution_count": 126,
   "metadata": {
    "tags": []
   },
   "outputs": [],
   "source": [
    "# Splitting IT Skills column into different columns\n",
    "skills_list = data['IT Skills'].tolist()\n",
    "updated_skills_list = []\n",
    "for i in skills_list:\n",
    "    if i[-1] == ',':\n",
    "        i = i[0:-1]\n",
    "    skills = i.split(',')\n",
    "    if len(skills) > 100:\n",
    "        updated_skills_list.append('None')\n",
    "        continue\n",
    "    if ' ImportantImportant' in skills:\n",
    "        skills = skills[0:skills.index(' ImportantImportant')]\n",
    "    if ' Projects' in skills:\n",
    "        skills = skills[0:skills.index(' Projects')]\n",
    "    temp = []\n",
    "    for j in range(len(skills)):\n",
    "        skills[j] = skills[j].strip()\n",
    "        temp_size = j\n",
    "        if skills[temp_size][0:9] == 'Countries':\n",
    "            while temp_size < len(skills) and skills[temp_size].strip()[0:8] != 'Job Type':\n",
    "                temp.append(skills[temp_size].strip())\n",
    "                temp_size = temp_size + 1\n",
    "\n",
    "        if skills[j] == 'Affirmative Action' or skills[j][0:21] == 'Physically Challenged' or skills[j] == 'Work Authorization' or skills[j][0:8] == 'Job Type' or skills[j][0:17] == 'Employment Status' or skills[j] == 'Part Time' or skills[j][0:8] == 'Category' or skills[j][0:10] == 'Skill Name' or skills[j][0:18] == 'javascript:void(0)' or len(skills[j]) == 0 or skills[j][0:9] == 'Team Size' or skills[j][0:20] == 'Nature of Employment' or skills[j][0:16] == 'Project Location' or skills[j][0:4] == 'Role' or skills[j][0:8] == 'Duration' or skills[j][0:6] == 'Onsite' or skills[j][0:13] == 'Project Title' or skills[j][0:15] == 'Project Details' or skills[j][0:6] == 'Client' or skills[j][0:10] == 'Skill Used' or skills[j][0:8] == 'file:///' or skills[j] == 'ImportantImportant' or skills[j] == 'Using Free CV Search youUsing Free CV Search you' or skills[j] == 'have access to featuredhave access to featured' or skills[j] == 'candidate profiles of Naukri.candidate profiles of Naukri.' or skills[j] == 'You can browse through theYou can browse through the' or skills[j] == 'profiles and email theprofiles and email the' or skills[j] == 'candidates of your choicecandidates of your choice' or skills[j] == 'directly using the emaildirectly using the email' or skills[j] == 'option provided. To preventoption provided. To prevent' or skills[j] == 'misuse of candidatemisuse of candidate' or skills[j] == 'information' or skills[j] == 'contact detailsinformation' or skills[j] == 'contact details' or skills[j] == 'and attached resume of theand attached resume of the' or skills[j] == 'candidates have beencandidates have been' or skills[j] == 'withheld.withheld.' or skills[j][0:14] == 'US Work Status':\n",
    "            temp.append(skills[j])\n",
    "    for j in temp:\n",
    "        skills.remove(j)\n",
    "    skills = skills[0:30]\n",
    "    updated_skills_list.append(','.join(skills))\n",
    "\n",
    "data['IT Skills'] = updated_skills_list\n",
    "name_list = []\n",
    "for i in range(1,31):\n",
    "    name_list.append('IT Skill '+str(i))\n",
    "data[name_list] = data['IT Skills'].str.split(\",\", expand = True)\n",
    "# data.head()"
   ]
  },
  {
   "cell_type": "code",
   "execution_count": 127,
   "metadata": {},
   "outputs": [],
   "source": [
    "# Splitting Key Skills column into different columns\n",
    "key_skills = data['Key Skills'].tolist()\n",
    "updated_key_skills = []\n",
    "maximum = 0\n",
    "\n",
    "for i in range(len(key_skills)):\n",
    "    if key_skills[i][-1] == ',':\n",
    "        key_skills[i] = key_skills[i][0:-1]\n",
    "    skill_list = key_skills[i].split(',')\n",
    "    \n",
    "    updated_skill_list = []\n",
    "    for j in range(len(skill_list)):\n",
    "        if len(skill_list[j]) > 0:\n",
    "            updated_skill_list.append(skill_list[j].strip())\n",
    "    \n",
    "    if len(updated_skill_list) > maximum:\n",
    "        maximum = len(updated_skill_list)\n",
    "    \n",
    "    updated_key_skills.append(','.join(updated_skill_list[0:30]))\n",
    "\n",
    "data['Key Skills'] = updated_key_skills\n",
    "name_list = []\n",
    "for i in range(1,31):\n",
    "    name_list.append('Key Skill '+str(i))\n",
    "data[name_list] = data['Key Skills'].str.split(\",\", expand = True)\n",
    "# data.head()"
   ]
  },
  {
   "cell_type": "code",
   "execution_count": 128,
   "metadata": {},
   "outputs": [],
   "source": [
    "# Extracting IT Skill Experience from IT Skills\n",
    "for i in range(1,31):\n",
    "    it_skill = data['IT Skill '+str(i)].tolist()\n",
    "    experience = []\n",
    "    updated_it_skill = []\n",
    "    for j in it_skill:\n",
    "        years = 0\n",
    "        months = 0\n",
    "        if j is not None and 'Year(s)' in j:\n",
    "            split_it_skill = j.split(' ')\n",
    "            for z in range(len(split_it_skill)):\n",
    "                if split_it_skill[z] == 'Year(s)':\n",
    "                    years = split_it_skill[z-1]\n",
    "                if split_it_skill[z] == 'Month(s)':\n",
    "                    months = split_it_skill[z-1]\n",
    "        experience.append(float(str(years)+'.'+str(months)))\n",
    "    data['IT Skill '+str(i)+' Experience'] = experience\n",
    "# data.head()"
   ]
  },
  {
   "cell_type": "code",
   "execution_count": 129,
   "metadata": {},
   "outputs": [],
   "source": [
    "# Removing Experience from IT Skills\n",
    "for i in range(1,31):\n",
    "    it_skill = data['IT Skill '+str(i)].tolist()\n",
    "    updated_it_skill = []\n",
    "    for j in it_skill:\n",
    "        if j is not None and 'Year(s)' in j:\n",
    "            split_it_skill = j.split(' ')\n",
    "            for z in range(len(split_it_skill)):\n",
    "                if split_it_skill[z] == 'Year(s)':\n",
    "                    try:\n",
    "                        year = int(split_it_skill[z-2])\n",
    "                        updated_it_skill.append(' '.join(split_it_skill[0:z-2]))\n",
    "                    except:\n",
    "                        updated_it_skill.append(' '.join(split_it_skill[0:z-1]))\n",
    "                    break\n",
    "                elif split_it_skill[z] == 'Month(s)':\n",
    "                    try:\n",
    "                        year = int(split_it_skill[z-2])\n",
    "                        updated_it_skill.append(' '.join(split_it_skill[0:z-2]))\n",
    "                    except:\n",
    "                        updated_it_skill.append(' '.join(split_it_skill[0:z-1]))\n",
    "                    break\n",
    "        else:\n",
    "            updated_it_skill.append(j)\n",
    "    data['IT Skill '+str(i)] = updated_it_skill"
   ]
  },
  {
   "cell_type": "code",
   "execution_count": 130,
   "metadata": {},
   "outputs": [],
   "source": [
    "# Changing the order of the columns\n",
    "updated_columns = ['Name', 'Current Location', 'Preferred Location 1', 'Preferred Location 2', 'Preferred Location 3', 'Functional Area', 'Industry', 'Total Experience', 'Highest Degree', 'UG', 'PG', 'Category', 'Job Type', 'Employment Status', 'Physically Challenged', 'Role', 'Summary', 'Work Experience']\n",
    "\n",
    "for i in range(1,7):\n",
    "    updated_columns.append('Languages Known '+str(i))\n",
    "for i in range(1,31):\n",
    "    updated_columns.append('IT Skill '+str(i))\n",
    "    updated_columns.append('IT Skill '+str(i)+' Experience')\n",
    "for i in range(1,31):\n",
    "    updated_columns.append('Key Skill '+str(i))\n",
    "updated_columns.append('Resume')\n",
    "data = data[updated_columns]"
   ]
  },
  {
   "cell_type": "code",
   "execution_count": 131,
   "metadata": {},
   "outputs": [],
   "source": [
    "data.to_csv('Preprocessed Resume Data.csv', index=False)"
   ]
  },
  {
   "cell_type": "code",
   "execution_count": null,
   "metadata": {},
   "outputs": [],
   "source": []
  }
 ]
}
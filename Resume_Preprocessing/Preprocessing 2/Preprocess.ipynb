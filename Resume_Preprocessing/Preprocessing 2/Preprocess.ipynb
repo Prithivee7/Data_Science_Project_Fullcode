{
 "metadata": {
  "language_info": {
   "codemirror_mode": {
    "name": "ipython",
    "version": 3
   },
   "file_extension": ".py",
   "mimetype": "text/x-python",
   "name": "python",
   "nbconvert_exporter": "python",
   "pygments_lexer": "ipython3",
   "version": "3.8.2-final"
  },
  "orig_nbformat": 2,
  "kernelspec": {
   "name": "python3",
   "display_name": "Python 3.8.2 32-bit",
   "metadata": {
    "interpreter": {
     "hash": "249919e00f7501aeebb24f2baedf1eaa50db3da7679bc878c9a66c582c667356"
    }
   }
  }
 },
 "nbformat": 4,
 "nbformat_minor": 2,
 "cells": [
  {
   "cell_type": "code",
   "execution_count": null,
   "metadata": {},
   "outputs": [],
   "source": [
    "import pandas as pd"
   ]
  },
  {
   "cell_type": "code",
   "execution_count": null,
   "metadata": {},
   "outputs": [],
   "source": [
    "resume_data = pd.read_csv('Preprocessed Resume Data2.csv')\n"
   ]
  },
  {
   "cell_type": "code",
   "execution_count": null,
   "metadata": {},
   "outputs": [],
   "source": [
    "IT_Skills = set()\n",
    "\n",
    "for i in range(1,31):\n",
    "    for skill in resume_data['IT Skill ' + str(i)]:\n",
    "        if not isinstance(skill, float):\n",
    "            try:\n",
    "                skill = float(skill)\n",
    "            except:\n",
    "                if len(skill) > 2:\n",
    "                    IT_Skills.add(skill)\n",
    "\n",
    "IT_Skills = list(IT_Skills)\n",
    "IT_Skills = sorted(IT_Skills, key=len, reverse=True)"
   ]
  },
  {
   "cell_type": "code",
   "execution_count": null,
   "metadata": {},
   "outputs": [],
   "source": [
    "job_data = pd.read_csv('Preprocessed Job Requirements.csv')"
   ]
  },
  {
   "cell_type": "code",
   "execution_count": null,
   "metadata": {},
   "outputs": [],
   "source": [
    "Job_IT_Skills = []\n",
    "\n",
    "for job_description in job_data['JOB DESCRIPTION']:\n",
    "    description = job_description\n",
    "    sample_list = []\n",
    "    for skill in IT_Skills:\n",
    "        if skill.lower() in description.lower():\n",
    "            sample_list.append(skill)\n",
    "            description = description.replace(skill.lower(), '')\n",
    "    Job_IT_Skills.append(list(set(sample_list)))"
   ]
  },
  {
   "cell_type": "code",
   "execution_count": null,
   "metadata": {},
   "outputs": [],
   "source": [
    "max = 0\n",
    "for i in Job_IT_Skills:\n",
    "    if len(i) > max:\n",
    "        max = len(i)\n",
    "max"
   ]
  },
  {
   "cell_type": "code",
   "execution_count": null,
   "metadata": {},
   "outputs": [],
   "source": [
    "for i in range(len(Job_IT_Skills)):\n",
    "    Job_IT_Skills[i] = (',').join(Job_IT_Skills[i])\n",
    "\n",
    "job_data['IT Skills'] = Job_IT_Skills\n",
    "\n",
    "name_list = []\n",
    "for i in range(1, 251):\n",
    "    name_list.append('IT Skill '+str(i))\n",
    "\n",
    "job_data[name_list] = job_data['IT Skills'].str.split(\",\", expand = True)"
   ]
  },
  {
   "cell_type": "code",
   "execution_count": null,
   "metadata": {},
   "outputs": [],
   "source": [
    "job_data.to_csv('Preprocessed Job Requirements1.csv', index=False)"
   ]
  }
 ]
}
{
 "metadata": {
  "language_info": {
   "codemirror_mode": {
    "name": "ipython",
    "version": 3
   },
   "file_extension": ".py",
   "mimetype": "text/x-python",
   "name": "python",
   "nbconvert_exporter": "python",
   "pygments_lexer": "ipython3",
   "version": "3.9.4"
  },
  "orig_nbformat": 2,
  "kernelspec": {
   "name": "python394jvsc74a57bd093e94fe6ca7abce744c184f852f1eecfdc7f73671430f85d9f4f4b7f058b6d13",
   "display_name": "Python 3.9.4 64-bit"
  },
  "metadata": {
   "interpreter": {
    "hash": "93e94fe6ca7abce744c184f852f1eecfdc7f73671430f85d9f4f4b7f058b6d13"
   }
  }
 },
 "nbformat": 4,
 "nbformat_minor": 2,
 "cells": [
  {
   "cell_type": "code",
   "execution_count": 7,
   "metadata": {},
   "outputs": [],
   "source": [
    "from selenium import webdriver\n",
    "import time\n",
    "import autoit\n",
    "import json\n",
    "from selenium.webdriver.common.keys import Keys\n",
    "from selenium.webdriver.support.ui import Select"
   ]
  },
  {
   "cell_type": "code",
   "execution_count": 8,
   "metadata": {},
   "outputs": [],
   "source": [
    "url = \"https://freesearch.naukri.com/\"\n",
    "\n",
    "options = webdriver.ChromeOptions()\n",
    "\n",
    "appState = {\"recentDestinations\": [{\"id\":\"Save as PDF\",\"origin\":\"local\",\"account\":\"\"}],\"selectedDestinationId\":\"Save as PDF\",\"version\":2}\n",
    "profile = {'printing.print_preview_sticky_settings.appState': json.dumps(appState), 'download.default_directory':'E:\\\\Resume'}\n",
    "options.add_experimental_option('prefs', profile)\n",
    "# options.add_argument('--kiosk-printing')\n",
    "driver = webdriver.Chrome(options=options)\n",
    "driver.maximize_window()\n",
    "driver.get(url)\n",
    "\n",
    "role_search = driver.find_element_by_xpath('/html/body/div[5]/div[2]/a[4]/span')\n",
    "role_search.click()\n",
    "\n",
    "# role = driver.find_element_by_xpath('//*[@id=\"role24.01\"]')\n",
    "# role.click()\n",
    "active_period = driver.find_element_by_xpath('//*[@id=\"daysold\"]')\n",
    "active = Select(active_period)\n",
    "active.select_by_value('3650')\n",
    "\n",
    "number_resumes = driver.find_element_by_xpath('/html/body/div[5]/form/div[3]/div[4]/div/div[7]/select')\n",
    "number_resumes.send_keys(160)\n",
    "\n",
    "find_button = driver.find_element_by_xpath('/html/body/div[5]/form/div[3]/div[6]/span/input')\n",
    "find_button.click()"
   ]
  },
  {
   "cell_type": "code",
   "execution_count": 9,
   "metadata": {},
   "outputs": [],
   "source": [
    "pagetext = driver.find_element_by_class_name('sel').text\n",
    "pages = int(pagetext.split()[-1])"
   ]
  },
  {
   "cell_type": "code",
   "execution_count": 10,
   "metadata": {
    "tags": []
   },
   "outputs": [
    {
     "output_type": "stream",
     "name": "stdout",
     "text": [
      "Message: no such element: Unable to locate element: {\"method\":\"xpath\",\"selector\":\"//*[@id=\"scroll\"]/strong[2]/a/span\"}\n  (Session info: chrome=90.0.4430.212)\n\n"
     ]
    },
    {
     "output_type": "error",
     "ename": "KeyboardInterrupt",
     "evalue": "",
     "traceback": [
      "\u001b[1;31m---------------------------------------------------------------------------\u001b[0m",
      "\u001b[1;31mKeyboardInterrupt\u001b[0m                         Traceback (most recent call last)",
      "\u001b[1;32m<ipython-input-10-7e80f8c9c2d5>\u001b[0m in \u001b[0;36m<module>\u001b[1;34m\u001b[0m\n\u001b[0;32m      9\u001b[0m         \u001b[1;32mtry\u001b[0m\u001b[1;33m:\u001b[0m\u001b[1;33m\u001b[0m\u001b[1;33m\u001b[0m\u001b[0m\n\u001b[0;32m     10\u001b[0m             \u001b[0mdriver\u001b[0m\u001b[1;33m.\u001b[0m\u001b[0mfind_element_by_xpath\u001b[0m\u001b[1;33m(\u001b[0m\u001b[1;34m'//*[@id=\"scroll\"]/strong[2]/a/span'\u001b[0m\u001b[1;33m)\u001b[0m\u001b[1;33m.\u001b[0m\u001b[0mclick\u001b[0m\u001b[1;33m(\u001b[0m\u001b[1;33m)\u001b[0m\u001b[1;33m\u001b[0m\u001b[1;33m\u001b[0m\u001b[0m\n\u001b[1;32m---> 11\u001b[1;33m             \u001b[0mtime\u001b[0m\u001b[1;33m.\u001b[0m\u001b[0msleep\u001b[0m\u001b[1;33m(\u001b[0m\u001b[1;36m2\u001b[0m\u001b[1;33m)\u001b[0m\u001b[1;33m\u001b[0m\u001b[1;33m\u001b[0m\u001b[0m\n\u001b[0m\u001b[0;32m     12\u001b[0m             \u001b[0mdriver\u001b[0m\u001b[1;33m.\u001b[0m\u001b[0mswitch_to\u001b[0m\u001b[1;33m.\u001b[0m\u001b[0mwindow\u001b[0m\u001b[1;33m(\u001b[0m\u001b[0mdriver\u001b[0m\u001b[1;33m.\u001b[0m\u001b[0mwindow_handles\u001b[0m\u001b[1;33m[\u001b[0m\u001b[1;36m2\u001b[0m\u001b[1;33m]\u001b[0m\u001b[1;33m)\u001b[0m\u001b[1;33m\u001b[0m\u001b[1;33m\u001b[0m\u001b[0m\n\u001b[0;32m     13\u001b[0m             \u001b[0mdriver\u001b[0m\u001b[1;33m.\u001b[0m\u001b[0mfind_element_by_tag_name\u001b[0m\u001b[1;33m(\u001b[0m\u001b[1;34m'body'\u001b[0m\u001b[1;33m)\u001b[0m\u001b[1;33m.\u001b[0m\u001b[0msend_keys\u001b[0m\u001b[1;33m(\u001b[0m\u001b[0mKeys\u001b[0m\u001b[1;33m.\u001b[0m\u001b[0mENTER\u001b[0m\u001b[1;33m)\u001b[0m\u001b[1;33m\u001b[0m\u001b[1;33m\u001b[0m\u001b[0m\n",
      "\u001b[1;31mKeyboardInterrupt\u001b[0m: "
     ]
    }
   ],
   "source": [
    "# nextpage = driver.find_element_by_class_name('rgtPGarr')\n",
    "# nextpage.click()\n",
    "sno = 1\n",
    "for i in range(0,pages-1):\n",
    "    for n in range(160):\n",
    "        driver.find_element_by_id(n).click()\n",
    "        time.sleep(2)\n",
    "        driver.switch_to.window(driver.window_handles[1])\n",
    "        try:\n",
    "            driver.find_element_by_xpath('//*[@id=\"scroll\"]/strong[2]/a/span').click()\n",
    "            time.sleep(2)\n",
    "            driver.switch_to.window(driver.window_handles[2])\n",
    "            driver.find_element_by_tag_name('body').send_keys(Keys.ENTER)\n",
    "            text = 'Resume'+str(sno)\n",
    "            time.sleep(2)\n",
    "            autoit.control_send('Save As','Edit1',text)\n",
    "            autoit.control_click('Save As','Button2')\n",
    "            sno += 1\n",
    "        except Exception as e:\n",
    "            print(e)\n",
    "            pass\n",
    "        # time.sleep(2)\n",
    "        driver.switch_to.window(driver.window_handles[1])\n",
    "        driver.close()\n",
    "        driver.switch_to.window(driver.window_handles[0])\n",
    "    time.sleep(2)\n",
    "    nextpage = driver.find_element_by_class_name('rgtPGarr')\n",
    "    nextpage.click()"
   ]
  }
 ]
}
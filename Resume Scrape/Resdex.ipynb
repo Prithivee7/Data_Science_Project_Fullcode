{
 "metadata": {
  "language_info": {
   "codemirror_mode": {
    "name": "ipython",
    "version": 3
   },
   "file_extension": ".py",
   "mimetype": "text/x-python",
   "name": "python",
   "nbconvert_exporter": "python",
   "pygments_lexer": "ipython3",
   "version": "3.8.2"
  },
  "orig_nbformat": 2,
  "kernelspec": {
   "name": "python382jvsc74a57bd0249919e00f7501aeebb24f2baedf1eaa50db3da7679bc878c9a66c582c667356",
   "display_name": "Python 3.8.2 32-bit"
  },
  "metadata": {
   "interpreter": {
    "hash": "249919e00f7501aeebb24f2baedf1eaa50db3da7679bc878c9a66c582c667356"
   }
  }
 },
 "nbformat": 4,
 "nbformat_minor": 2,
 "cells": [
  {
   "cell_type": "code",
   "execution_count": 1,
   "metadata": {},
   "outputs": [],
   "source": [
    "from selenium import webdriver\n",
    "import time\n",
    "import autoit\n",
    "import json\n",
    "from selenium.webdriver.common.keys import Keys\n",
    "from selenium.webdriver.support.ui import Select"
   ]
  },
  {
   "cell_type": "code",
   "execution_count": 3,
   "metadata": {},
   "outputs": [],
   "source": [
    "url = \"https://freesearch.naukri.com/\"\n",
    "\n",
    "options = webdriver.ChromeOptions()\n",
    "\n",
    "appState = {\"recentDestinations\": [{\"id\":\"Save as PDF\",\"origin\":\"local\",\"account\":\"\"}],\"selectedDestinationId\":\"Save as PDF\",\"version\":2}\n",
    "profile = {'printing.print_preview_sticky_settings.appState': json.dumps(appState), 'download.default_directory':'E:\\\\Resume'}\n",
    "options.add_experimental_option('prefs', profile)\n",
    "# options.add_argument('--kiosk-printing')\n",
    "driver = webdriver.Chrome(options=options)\n",
    "driver.maximize_window()\n",
    "driver.get(url)\n",
    "\n",
    "role_search = driver.find_element_by_xpath('/html/body/div[5]/div[2]/a[4]/span')\n",
    "role_search.click()\n",
    "\n",
    "# role = driver.find_element_by_xpath('//*[@id=\"role24.01\"]')\n",
    "# role.click()\n",
    "active_period = driver.find_element_by_xpath('//*[@id=\"daysold\"]')\n",
    "active = Select(active_period)\n",
    "active.select_by_value('3650')\n",
    "\n",
    "number_resumes = driver.find_element_by_xpath('/html/body/div[5]/form/div[3]/div[4]/div/div[7]/select')\n",
    "number_resumes.send_keys(160)\n",
    "\n",
    "find_button = driver.find_element_by_xpath('/html/body/div[5]/form/div[3]/div[6]/span/input')\n",
    "find_button.click()"
   ]
  },
  {
   "cell_type": "code",
   "execution_count": null,
   "metadata": {},
   "outputs": [],
   "source": [
    "pagetext = driver.find_element_by_class_name('sel').text\n",
    "pages = int(pagetext.split()[-1])"
   ]
  },
  {
   "cell_type": "code",
   "execution_count": null,
   "metadata": {
    "tags": []
   },
   "outputs": [],
   "source": [
    "# nextpage = driver.find_element_by_class_name('rgtPGarr')\n",
    "# nextpage.click()\n",
    "sno = 1\n",
    "for i in range(0,pages-1):\n",
    "    for n in range(160):\n",
    "        driver.find_element_by_id(n).click()\n",
    "        time.sleep(2)\n",
    "        driver.switch_to.window(driver.window_handles[1])\n",
    "        try:\n",
    "            driver.find_element_by_xpath('//*[@id=\"scroll\"]/strong[2]/a/span').click()\n",
    "            time.sleep(2)\n",
    "            driver.switch_to.window(driver.window_handles[2])\n",
    "            driver.find_element_by_tag_name('body').send_keys(Keys.ENTER)\n",
    "            text = 'Resume'+str(sno)\n",
    "            time.sleep(2)\n",
    "            autoit.control_send('Save As','Edit1',text)\n",
    "            autoit.control_click('Save As','Button2')\n",
    "            sno += 1\n",
    "        except Exception as e:\n",
    "            print(e)\n",
    "            pass\n",
    "        # time.sleep(2)\n",
    "        driver.switch_to.window(driver.window_handles[1])\n",
    "        driver.close()\n",
    "        driver.switch_to.window(driver.window_handles[0])\n",
    "    time.sleep(2)\n",
    "    nextpage = driver.find_element_by_class_name('rgtPGarr')\n",
    "    nextpage.click()"
   ]
  }
 ]
}
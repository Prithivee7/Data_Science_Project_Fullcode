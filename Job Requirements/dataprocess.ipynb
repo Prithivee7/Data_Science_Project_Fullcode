{
 "metadata": {
  "language_info": {
   "codemirror_mode": {
    "name": "ipython",
    "version": 3
   },
   "file_extension": ".py",
   "mimetype": "text/x-python",
   "name": "python",
   "nbconvert_exporter": "python",
   "pygments_lexer": "ipython3",
   "version": "3.8.2"
  },
  "orig_nbformat": 2,
  "kernelspec": {
   "name": "python3",
   "display_name": "Python 3.8.2 32-bit",
   "metadata": {
    "interpreter": {
     "hash": "199907c8b9facaa55dd3798221dacb5bde87dc9b9c8359b02459b8e91a8d9453"
    }
   }
  }
 },
 "nbformat": 4,
 "nbformat_minor": 2,
 "cells": [
  {
   "cell_type": "code",
   "execution_count": 43,
   "metadata": {},
   "outputs": [],
   "source": [
    "import pandas as pd\n",
    "import ast"
   ]
  },
  {
   "cell_type": "code",
   "execution_count": 44,
   "metadata": {},
   "outputs": [],
   "source": [
    "df = pd.read_csv('job_descriptions.csv', encoding='cp1252')"
   ]
  },
  {
   "cell_type": "code",
   "execution_count": 45,
   "metadata": {},
   "outputs": [
    {
     "output_type": "execute_result",
     "data": {
      "text/plain": [
       "                                     JOB DESCRIPTION                ROLE  \\\n",
       "0  Roles and ResponsibilitiesIntroductionSoftware...  Software Developer   \n",
       "1    Role Summary        The Software Engineer is...  Software Developer   \n",
       "2   Job Description     Sr. Software Developer (J...  Software Developer   \n",
       "3     Job Description     Develop high-quality so...  Software Developer   \n",
       "4  Role: Software DeveloperJob Location: Ahmedaba...  Software Developer   \n",
       "\n",
       "                                 INDUSTRY TYPE  \\\n",
       "0               IT-Software, Software Services   \n",
       "1  Automobile, Auto Anciliary, Auto Components   \n",
       "2               IT-Software, Software Services   \n",
       "3                        Recruitment, Staffing   \n",
       "4               IT-Software, Software Services   \n",
       "\n",
       "                                     FUNCTIONAL AREA      EMPLOYMENT TYPE  \\\n",
       "0     IT Software - Network Administration, Security  Full Time, Permanen   \n",
       "1  IT Software - Application Programming, Mainten...  Full Time, Permanen   \n",
       "2  IT Software - Application Programming, Mainten...  Full Time, Permanen   \n",
       "3  IT Software - Application Programming, Mainten...  Full Time, Permanen   \n",
       "4  IT Software - Application Programming, Mainten...  Full Time, Permanen   \n",
       "\n",
       "         ROLE CATEGORY                                          EDUCATION  \\\n",
       "0  Programming & Desig  {'UG': 'Any Graduate in Any Specialization', '...   \n",
       "1  Programming & Desig  {'UG': 'Any Graduate in Any Specialization', '...   \n",
       "2  Programming & Desig  {'UG': 'Any Graduate in Any Specialization', '...   \n",
       "3  Programming & Desig  {'UG': 'Any Graduate in Any Specialization', '...   \n",
       "4  Programming & Desig       {'UG': 'Any Graduate in Any Specialization'}   \n",
       "\n",
       "                                           KEY SKILL  \n",
       "0  ['Java', 'Cloud Computing', 'Python ', 'RAML',...  \n",
       "1  ['Computer science', 'Electrical engineering',...  \n",
       "2  ['Core Java', 'Programming', 'Data structures'...  \n",
       "3  ['Unix', 'Linux', 'SOA', 'XML', 'Project manag...  \n",
       "4  ['CSS', 'Front End', 'Web Technologies', 'Post...  "
      ],
      "text/html": "<div>\n<style scoped>\n    .dataframe tbody tr th:only-of-type {\n        vertical-align: middle;\n    }\n\n    .dataframe tbody tr th {\n        vertical-align: top;\n    }\n\n    .dataframe thead th {\n        text-align: right;\n    }\n</style>\n<table border=\"1\" class=\"dataframe\">\n  <thead>\n    <tr style=\"text-align: right;\">\n      <th></th>\n      <th>JOB DESCRIPTION</th>\n      <th>ROLE</th>\n      <th>INDUSTRY TYPE</th>\n      <th>FUNCTIONAL AREA</th>\n      <th>EMPLOYMENT TYPE</th>\n      <th>ROLE CATEGORY</th>\n      <th>EDUCATION</th>\n      <th>KEY SKILL</th>\n    </tr>\n  </thead>\n  <tbody>\n    <tr>\n      <th>0</th>\n      <td>Roles and ResponsibilitiesIntroductionSoftware...</td>\n      <td>Software Developer</td>\n      <td>IT-Software, Software Services</td>\n      <td>IT Software - Network Administration, Security</td>\n      <td>Full Time, Permanen</td>\n      <td>Programming &amp; Desig</td>\n      <td>{'UG': 'Any Graduate in Any Specialization', '...</td>\n      <td>['Java', 'Cloud Computing', 'Python ', 'RAML',...</td>\n    </tr>\n    <tr>\n      <th>1</th>\n      <td>Role Summary        The Software Engineer is...</td>\n      <td>Software Developer</td>\n      <td>Automobile, Auto Anciliary, Auto Components</td>\n      <td>IT Software - Application Programming, Mainten...</td>\n      <td>Full Time, Permanen</td>\n      <td>Programming &amp; Desig</td>\n      <td>{'UG': 'Any Graduate in Any Specialization', '...</td>\n      <td>['Computer science', 'Electrical engineering',...</td>\n    </tr>\n    <tr>\n      <th>2</th>\n      <td>Job Description     Sr. Software Developer (J...</td>\n      <td>Software Developer</td>\n      <td>IT-Software, Software Services</td>\n      <td>IT Software - Application Programming, Mainten...</td>\n      <td>Full Time, Permanen</td>\n      <td>Programming &amp; Desig</td>\n      <td>{'UG': 'Any Graduate in Any Specialization', '...</td>\n      <td>['Core Java', 'Programming', 'Data structures'...</td>\n    </tr>\n    <tr>\n      <th>3</th>\n      <td>Job Description     Develop high-quality so...</td>\n      <td>Software Developer</td>\n      <td>Recruitment, Staffing</td>\n      <td>IT Software - Application Programming, Mainten...</td>\n      <td>Full Time, Permanen</td>\n      <td>Programming &amp; Desig</td>\n      <td>{'UG': 'Any Graduate in Any Specialization', '...</td>\n      <td>['Unix', 'Linux', 'SOA', 'XML', 'Project manag...</td>\n    </tr>\n    <tr>\n      <th>4</th>\n      <td>Role: Software DeveloperJob Location: Ahmedaba...</td>\n      <td>Software Developer</td>\n      <td>IT-Software, Software Services</td>\n      <td>IT Software - Application Programming, Mainten...</td>\n      <td>Full Time, Permanen</td>\n      <td>Programming &amp; Desig</td>\n      <td>{'UG': 'Any Graduate in Any Specialization'}</td>\n      <td>['CSS', 'Front End', 'Web Technologies', 'Post...</td>\n    </tr>\n  </tbody>\n</table>\n</div>"
     },
     "metadata": {},
     "execution_count": 45
    }
   ],
   "source": [
    "df.head()"
   ]
  },
  {
   "cell_type": "code",
   "execution_count": 46,
   "metadata": {},
   "outputs": [],
   "source": [
    "# Correcting the spelling in Employment Type column\n",
    "employment_type = df['EMPLOYMENT TYPE'].tolist()\n",
    "for i in range(len(employment_type)):\n",
    "    if employment_type[i] == 'Full Time, Permanen':\n",
    "        employment_type[i] = 'Full Time, Permanent'\n",
    "    elif employment_type[i] == 'Full Time, Temporary/Contractua':\n",
    "        employment_type[i] = 'Full Time, Temporary/Contractual'\n",
    "    elif employment_type[i] == 'Part Time, Permanen':\n",
    "        employment_type[i] = 'Part Time, Permanent'\n",
    "df['EMPLOYMENT TYPE'] = employment_type"
   ]
  },
  {
   "cell_type": "code",
   "execution_count": 47,
   "metadata": {},
   "outputs": [
    {
     "output_type": "execute_result",
     "data": {
      "text/plain": [
       "                                     JOB DESCRIPTION                ROLE  \\\n",
       "0  Roles and ResponsibilitiesIntroductionSoftware...  Software Developer   \n",
       "1    Role Summary        The Software Engineer is...  Software Developer   \n",
       "2   Job Description     Sr. Software Developer (J...  Software Developer   \n",
       "3     Job Description     Develop high-quality so...  Software Developer   \n",
       "4  Role: Software DeveloperJob Location: Ahmedaba...  Software Developer   \n",
       "\n",
       "                                 INDUSTRY TYPE  \\\n",
       "0               IT-Software, Software Services   \n",
       "1  Automobile, Auto Anciliary, Auto Components   \n",
       "2               IT-Software, Software Services   \n",
       "3                        Recruitment, Staffing   \n",
       "4               IT-Software, Software Services   \n",
       "\n",
       "                                     FUNCTIONAL AREA       EMPLOYMENT TYPE  \\\n",
       "0     IT Software - Network Administration, Security  Full Time, Permanent   \n",
       "1  IT Software - Application Programming, Mainten...  Full Time, Permanent   \n",
       "2  IT Software - Application Programming, Mainten...  Full Time, Permanent   \n",
       "3  IT Software - Application Programming, Mainten...  Full Time, Permanent   \n",
       "4  IT Software - Application Programming, Mainten...  Full Time, Permanent   \n",
       "\n",
       "          ROLE CATEGORY                                          EDUCATION  \\\n",
       "0  Programming & Design  {'UG': 'Any Graduate in Any Specialization', '...   \n",
       "1  Programming & Design  {'UG': 'Any Graduate in Any Specialization', '...   \n",
       "2  Programming & Design  {'UG': 'Any Graduate in Any Specialization', '...   \n",
       "3  Programming & Design  {'UG': 'Any Graduate in Any Specialization', '...   \n",
       "4  Programming & Design       {'UG': 'Any Graduate in Any Specialization'}   \n",
       "\n",
       "                                           KEY SKILL  \n",
       "0  ['Java', 'Cloud Computing', 'Python ', 'RAML',...  \n",
       "1  ['Computer science', 'Electrical engineering',...  \n",
       "2  ['Core Java', 'Programming', 'Data structures'...  \n",
       "3  ['Unix', 'Linux', 'SOA', 'XML', 'Project manag...  \n",
       "4  ['CSS', 'Front End', 'Web Technologies', 'Post...  "
      ],
      "text/html": "<div>\n<style scoped>\n    .dataframe tbody tr th:only-of-type {\n        vertical-align: middle;\n    }\n\n    .dataframe tbody tr th {\n        vertical-align: top;\n    }\n\n    .dataframe thead th {\n        text-align: right;\n    }\n</style>\n<table border=\"1\" class=\"dataframe\">\n  <thead>\n    <tr style=\"text-align: right;\">\n      <th></th>\n      <th>JOB DESCRIPTION</th>\n      <th>ROLE</th>\n      <th>INDUSTRY TYPE</th>\n      <th>FUNCTIONAL AREA</th>\n      <th>EMPLOYMENT TYPE</th>\n      <th>ROLE CATEGORY</th>\n      <th>EDUCATION</th>\n      <th>KEY SKILL</th>\n    </tr>\n  </thead>\n  <tbody>\n    <tr>\n      <th>0</th>\n      <td>Roles and ResponsibilitiesIntroductionSoftware...</td>\n      <td>Software Developer</td>\n      <td>IT-Software, Software Services</td>\n      <td>IT Software - Network Administration, Security</td>\n      <td>Full Time, Permanent</td>\n      <td>Programming &amp; Design</td>\n      <td>{'UG': 'Any Graduate in Any Specialization', '...</td>\n      <td>['Java', 'Cloud Computing', 'Python ', 'RAML',...</td>\n    </tr>\n    <tr>\n      <th>1</th>\n      <td>Role Summary        The Software Engineer is...</td>\n      <td>Software Developer</td>\n      <td>Automobile, Auto Anciliary, Auto Components</td>\n      <td>IT Software - Application Programming, Mainten...</td>\n      <td>Full Time, Permanent</td>\n      <td>Programming &amp; Design</td>\n      <td>{'UG': 'Any Graduate in Any Specialization', '...</td>\n      <td>['Computer science', 'Electrical engineering',...</td>\n    </tr>\n    <tr>\n      <th>2</th>\n      <td>Job Description     Sr. Software Developer (J...</td>\n      <td>Software Developer</td>\n      <td>IT-Software, Software Services</td>\n      <td>IT Software - Application Programming, Mainten...</td>\n      <td>Full Time, Permanent</td>\n      <td>Programming &amp; Design</td>\n      <td>{'UG': 'Any Graduate in Any Specialization', '...</td>\n      <td>['Core Java', 'Programming', 'Data structures'...</td>\n    </tr>\n    <tr>\n      <th>3</th>\n      <td>Job Description     Develop high-quality so...</td>\n      <td>Software Developer</td>\n      <td>Recruitment, Staffing</td>\n      <td>IT Software - Application Programming, Mainten...</td>\n      <td>Full Time, Permanent</td>\n      <td>Programming &amp; Design</td>\n      <td>{'UG': 'Any Graduate in Any Specialization', '...</td>\n      <td>['Unix', 'Linux', 'SOA', 'XML', 'Project manag...</td>\n    </tr>\n    <tr>\n      <th>4</th>\n      <td>Role: Software DeveloperJob Location: Ahmedaba...</td>\n      <td>Software Developer</td>\n      <td>IT-Software, Software Services</td>\n      <td>IT Software - Application Programming, Mainten...</td>\n      <td>Full Time, Permanent</td>\n      <td>Programming &amp; Design</td>\n      <td>{'UG': 'Any Graduate in Any Specialization'}</td>\n      <td>['CSS', 'Front End', 'Web Technologies', 'Post...</td>\n    </tr>\n  </tbody>\n</table>\n</div>"
     },
     "metadata": {},
     "execution_count": 47
    }
   ],
   "source": [
    "# Correcting the spelling in Role Category column\n",
    "role_category = df['ROLE CATEGORY'].tolist()\n",
    "for i in range(len(role_category)):\n",
    "    if role_category[i] == 'Programming & Desig':\n",
    "        role_category[i] = 'Programming & Design'\n",
    "    elif role_category[i] == 'Othe':\n",
    "        role_category[i] = 'Other'\n",
    "    elif role_category[i] == 'System Design/Implementation/ERP/CR':\n",
    "        role_category[i] = 'System Design/Implementation/ERP/CRM'\n",
    "    elif role_category[i] == 'HR/ Recruitment / I':\n",
    "        role_category[i] = 'HR/ Recruitment / IR'\n",
    "    elif role_category[i] == 'Back Office/Web/Transaction Processin':\n",
    "        role_category[i] = 'Back Office/Web/Transaction Processing'\n",
    "    elif role_category[i] == 'Engineering Desig':\n",
    "        role_category[i] = 'Engineering Design'\n",
    "    elif role_category[i] == 'Senior Managemen':\n",
    "        role_category[i] = 'Senior Management'\n",
    "    elif role_category[i] == 'Project Managemen':\n",
    "        role_category[i] = 'Project Management'\n",
    "    elif role_category[i] == 'Admin/Maintenance/Security/Datawarehousin':\n",
    "        role_category[i] = 'Admin/Maintenance/Security/Datawarehousing'\n",
    "    elif role_category[i] == 'QA/Testing/Documentatio':\n",
    "        role_category[i] = 'QA/Testing/Documentation'\n",
    "    elif role_category[i] == 'Creativ':\n",
    "        role_category[i] = 'Creative'\n",
    "    elif role_category[i] == 'Voic':\n",
    "        role_category[i] = 'Voice'\n",
    "    elif role_category[i] == 'Not mentione':\n",
    "        role_category[i] = 'Not mentioned'\n",
    "    elif role_category[i] == 'R&':\n",
    "        role_category[i] = 'R&D'\n",
    "    elif role_category[i] == 'Finance/Audi':\n",
    "        role_category[i] = 'Finance/Audit'\n",
    "    elif role_category[i] == 'Technical Suppor':\n",
    "        role_category[i] = 'Technical Support'\n",
    "    elif role_category[i] == 'Production/Technica':\n",
    "        role_category[i] = 'Production/Technical'\n",
    "    elif role_category[i] == 'Corporate Sale':\n",
    "        role_category[i] = 'Corporate Sales'\n",
    "    elif role_category[i] == 'Institutional Sale':\n",
    "        role_category[i] = 'Institutional Sales'\n",
    "    elif role_category[i] == 'Retail Sale':\n",
    "        role_category[i] = 'Retail Sales'\n",
    "    elif role_category[i] == 'Operation':\n",
    "        role_category[i] = 'Operations'\n",
    "\n",
    "df['ROLE CATEGORY'] = role_category\n",
    "df.head()"
   ]
  },
  {
   "cell_type": "code",
   "execution_count": 48,
   "metadata": {},
   "outputs": [
    {
     "output_type": "execute_result",
     "data": {
      "text/plain": [
       "                                     JOB DESCRIPTION                ROLE  \\\n",
       "0  Roles and ResponsibilitiesIntroductionSoftware...  Software Developer   \n",
       "1    Role Summary        The Software Engineer is...  Software Developer   \n",
       "2   Job Description     Sr. Software Developer (J...  Software Developer   \n",
       "3     Job Description     Develop high-quality so...  Software Developer   \n",
       "4  Role: Software DeveloperJob Location: Ahmedaba...  Software Developer   \n",
       "\n",
       "                                 INDUSTRY TYPE  \\\n",
       "0               IT-Software, Software Services   \n",
       "1  Automobile, Auto Anciliary, Auto Components   \n",
       "2               IT-Software, Software Services   \n",
       "3                        Recruitment, Staffing   \n",
       "4               IT-Software, Software Services   \n",
       "\n",
       "                                     FUNCTIONAL AREA       EMPLOYMENT TYPE  \\\n",
       "0     IT Software - Network Administration, Security  Full Time, Permanent   \n",
       "1  IT Software - Application Programming, Mainten...  Full Time, Permanent   \n",
       "2  IT Software - Application Programming, Mainten...  Full Time, Permanent   \n",
       "3  IT Software - Application Programming, Mainten...  Full Time, Permanent   \n",
       "4  IT Software - Application Programming, Mainten...  Full Time, Permanent   \n",
       "\n",
       "          ROLE CATEGORY                                          EDUCATION  \\\n",
       "0  Programming & Design  {'UG': 'Any Graduate in Any Specialization', '...   \n",
       "1  Programming & Design  {'UG': 'Any Graduate in Any Specialization', '...   \n",
       "2  Programming & Design  {'UG': 'Any Graduate in Any Specialization', '...   \n",
       "3  Programming & Design  {'UG': 'Any Graduate in Any Specialization', '...   \n",
       "4  Programming & Design       {'UG': 'Any Graduate in Any Specialization'}   \n",
       "\n",
       "                                           KEY SKILL  \\\n",
       "0  ['Java', 'Cloud Computing', 'Python ', 'RAML',...   \n",
       "1  ['Computer science', 'Electrical engineering',...   \n",
       "2  ['Core Java', 'Programming', 'Data structures'...   \n",
       "3  ['Unix', 'Linux', 'SOA', 'XML', 'Project manag...   \n",
       "4  ['CSS', 'Front End', 'Web Technologies', 'Post...   \n",
       "\n",
       "                                   UG                                      PG  \\\n",
       "0  Any Graduate in Any Specialization  Any Postgraduate in Any Specialization   \n",
       "1  Any Graduate in Any Specialization  Any Postgraduate in Any Specialization   \n",
       "2  Any Graduate in Any Specialization            Post Graduation Not Required   \n",
       "3  Any Graduate in Any Specialization            Post Graduation Not Required   \n",
       "4  Any Graduate in Any Specialization                                    None   \n",
       "\n",
       "                DOCTORATE  \n",
       "0  Doctorate Not Required  \n",
       "1                    None  \n",
       "2                    None  \n",
       "3                    None  \n",
       "4                    None  "
      ],
      "text/html": "<div>\n<style scoped>\n    .dataframe tbody tr th:only-of-type {\n        vertical-align: middle;\n    }\n\n    .dataframe tbody tr th {\n        vertical-align: top;\n    }\n\n    .dataframe thead th {\n        text-align: right;\n    }\n</style>\n<table border=\"1\" class=\"dataframe\">\n  <thead>\n    <tr style=\"text-align: right;\">\n      <th></th>\n      <th>JOB DESCRIPTION</th>\n      <th>ROLE</th>\n      <th>INDUSTRY TYPE</th>\n      <th>FUNCTIONAL AREA</th>\n      <th>EMPLOYMENT TYPE</th>\n      <th>ROLE CATEGORY</th>\n      <th>EDUCATION</th>\n      <th>KEY SKILL</th>\n      <th>UG</th>\n      <th>PG</th>\n      <th>DOCTORATE</th>\n    </tr>\n  </thead>\n  <tbody>\n    <tr>\n      <th>0</th>\n      <td>Roles and ResponsibilitiesIntroductionSoftware...</td>\n      <td>Software Developer</td>\n      <td>IT-Software, Software Services</td>\n      <td>IT Software - Network Administration, Security</td>\n      <td>Full Time, Permanent</td>\n      <td>Programming &amp; Design</td>\n      <td>{'UG': 'Any Graduate in Any Specialization', '...</td>\n      <td>['Java', 'Cloud Computing', 'Python ', 'RAML',...</td>\n      <td>Any Graduate in Any Specialization</td>\n      <td>Any Postgraduate in Any Specialization</td>\n      <td>Doctorate Not Required</td>\n    </tr>\n    <tr>\n      <th>1</th>\n      <td>Role Summary        The Software Engineer is...</td>\n      <td>Software Developer</td>\n      <td>Automobile, Auto Anciliary, Auto Components</td>\n      <td>IT Software - Application Programming, Mainten...</td>\n      <td>Full Time, Permanent</td>\n      <td>Programming &amp; Design</td>\n      <td>{'UG': 'Any Graduate in Any Specialization', '...</td>\n      <td>['Computer science', 'Electrical engineering',...</td>\n      <td>Any Graduate in Any Specialization</td>\n      <td>Any Postgraduate in Any Specialization</td>\n      <td>None</td>\n    </tr>\n    <tr>\n      <th>2</th>\n      <td>Job Description     Sr. Software Developer (J...</td>\n      <td>Software Developer</td>\n      <td>IT-Software, Software Services</td>\n      <td>IT Software - Application Programming, Mainten...</td>\n      <td>Full Time, Permanent</td>\n      <td>Programming &amp; Design</td>\n      <td>{'UG': 'Any Graduate in Any Specialization', '...</td>\n      <td>['Core Java', 'Programming', 'Data structures'...</td>\n      <td>Any Graduate in Any Specialization</td>\n      <td>Post Graduation Not Required</td>\n      <td>None</td>\n    </tr>\n    <tr>\n      <th>3</th>\n      <td>Job Description     Develop high-quality so...</td>\n      <td>Software Developer</td>\n      <td>Recruitment, Staffing</td>\n      <td>IT Software - Application Programming, Mainten...</td>\n      <td>Full Time, Permanent</td>\n      <td>Programming &amp; Design</td>\n      <td>{'UG': 'Any Graduate in Any Specialization', '...</td>\n      <td>['Unix', 'Linux', 'SOA', 'XML', 'Project manag...</td>\n      <td>Any Graduate in Any Specialization</td>\n      <td>Post Graduation Not Required</td>\n      <td>None</td>\n    </tr>\n    <tr>\n      <th>4</th>\n      <td>Role: Software DeveloperJob Location: Ahmedaba...</td>\n      <td>Software Developer</td>\n      <td>IT-Software, Software Services</td>\n      <td>IT Software - Application Programming, Mainten...</td>\n      <td>Full Time, Permanent</td>\n      <td>Programming &amp; Design</td>\n      <td>{'UG': 'Any Graduate in Any Specialization'}</td>\n      <td>['CSS', 'Front End', 'Web Technologies', 'Post...</td>\n      <td>Any Graduate in Any Specialization</td>\n      <td>None</td>\n      <td>None</td>\n    </tr>\n  </tbody>\n</table>\n</div>"
     },
     "metadata": {},
     "execution_count": 48
    }
   ],
   "source": [
    "education = df['EDUCATION'].tolist()\n",
    "UG = []\n",
    "PG = []\n",
    "DOCTORATE = []\n",
    "for i in range(len(education)):\n",
    "    education[i] = ast.literal_eval(education[i])\n",
    "    if 'UG' in education[i]:\n",
    "        UG.append(education[i]['UG'])\n",
    "    else:\n",
    "        UG.append(None)\n",
    "    if 'PG' in education[i]:\n",
    "        PG.append(education[i]['PG'])\n",
    "    else:\n",
    "        PG.append(None)\n",
    "    if 'DOCTORATE' in education[i]:\n",
    "        DOCTORATE.append(education[i]['DOCTORATE'])\n",
    "    else:\n",
    "        DOCTORATE.append(None)\n",
    "df.drop(['EDUCATION'], axis=1)\n",
    "df['UG'] = UG\n",
    "df['PG'] = PG\n",
    "df['DOCTORATE'] = DOCTORATE\n",
    "df.head()"
   ]
  },
  {
   "cell_type": "code",
   "execution_count": 49,
   "metadata": {},
   "outputs": [],
   "source": [
    "df[['INDUSTRY TYPE 1', 'INDUSTRY TYPE 2', 'INDUSTRY TYPE 3', 'INDUSTRY TYPE 4', 'INDUSTRY TYPE 5']] = df[\"INDUSTRY TYPE\"].str.split(\",\", expand = True)"
   ]
  },
  {
   "cell_type": "code",
   "execution_count": 50,
   "metadata": {},
   "outputs": [],
   "source": [
    "df[['FUNCTIONAL AREA 1', 'FUNCTIONAL AREA 2', 'FUNCTIONAL AREA 3', 'FUNCTIONAL AREA 4', 'FUNCTIONAL AREA 5', 'FUNCTIONAL AREA 6']] = df[\"FUNCTIONAL AREA\"].str.split(\",\", expand = True)"
   ]
  },
  {
   "cell_type": "code",
   "execution_count": 51,
   "metadata": {},
   "outputs": [
    {
     "output_type": "execute_result",
     "data": {
      "text/plain": [
       "                                     JOB DESCRIPTION                ROLE  \\\n",
       "0  Roles and ResponsibilitiesIntroductionSoftware...  Software Developer   \n",
       "1    Role Summary        The Software Engineer is...  Software Developer   \n",
       "2   Job Description     Sr. Software Developer (J...  Software Developer   \n",
       "3     Job Description     Develop high-quality so...  Software Developer   \n",
       "4  Role: Software DeveloperJob Location: Ahmedaba...  Software Developer   \n",
       "\n",
       "        EMPLOYMENT TYPE         ROLE CATEGORY  \\\n",
       "0  Full Time, Permanent  Programming & Design   \n",
       "1  Full Time, Permanent  Programming & Design   \n",
       "2  Full Time, Permanent  Programming & Design   \n",
       "3  Full Time, Permanent  Programming & Design   \n",
       "4  Full Time, Permanent  Programming & Design   \n",
       "\n",
       "                                   UG                                      PG  \\\n",
       "0  Any Graduate in Any Specialization  Any Postgraduate in Any Specialization   \n",
       "1  Any Graduate in Any Specialization  Any Postgraduate in Any Specialization   \n",
       "2  Any Graduate in Any Specialization            Post Graduation Not Required   \n",
       "3  Any Graduate in Any Specialization            Post Graduation Not Required   \n",
       "4  Any Graduate in Any Specialization                                    None   \n",
       "\n",
       "                DOCTORATE INDUSTRY TYPE 1     INDUSTRY TYPE 2  \\\n",
       "0  Doctorate Not Required     IT-Software   Software Services   \n",
       "1                    None      Automobile      Auto Anciliary   \n",
       "2                    None     IT-Software   Software Services   \n",
       "3                    None     Recruitment            Staffing   \n",
       "4                    None     IT-Software   Software Services   \n",
       "\n",
       "    INDUSTRY TYPE 3  ... KEY SKILL 26 KEY SKILL 27 KEY SKILL 28 KEY SKILL 29  \\\n",
       "0              None  ...         None         None         None         None   \n",
       "1   Auto Components  ...         None         None         None         None   \n",
       "2              None  ...         None         None         None         None   \n",
       "3              None  ...         None         None         None         None   \n",
       "4              None  ...         None         None         None         None   \n",
       "\n",
       "  KEY SKILL 30 KEY SKILL 31 KEY SKILL 32 KEY SKILL 33 KEY SKILL 34  \\\n",
       "0         None         None         None         None         None   \n",
       "1         None         None         None         None         None   \n",
       "2         None         None         None         None         None   \n",
       "3         None         None         None         None         None   \n",
       "4         None         None         None         None         None   \n",
       "\n",
       "  KEY SKILL 35  \n",
       "0         None  \n",
       "1         None  \n",
       "2         None  \n",
       "3         None  \n",
       "4         None  \n",
       "\n",
       "[5 rows x 53 columns]"
      ],
      "text/html": "<div>\n<style scoped>\n    .dataframe tbody tr th:only-of-type {\n        vertical-align: middle;\n    }\n\n    .dataframe tbody tr th {\n        vertical-align: top;\n    }\n\n    .dataframe thead th {\n        text-align: right;\n    }\n</style>\n<table border=\"1\" class=\"dataframe\">\n  <thead>\n    <tr style=\"text-align: right;\">\n      <th></th>\n      <th>JOB DESCRIPTION</th>\n      <th>ROLE</th>\n      <th>EMPLOYMENT TYPE</th>\n      <th>ROLE CATEGORY</th>\n      <th>UG</th>\n      <th>PG</th>\n      <th>DOCTORATE</th>\n      <th>INDUSTRY TYPE 1</th>\n      <th>INDUSTRY TYPE 2</th>\n      <th>INDUSTRY TYPE 3</th>\n      <th>...</th>\n      <th>KEY SKILL 26</th>\n      <th>KEY SKILL 27</th>\n      <th>KEY SKILL 28</th>\n      <th>KEY SKILL 29</th>\n      <th>KEY SKILL 30</th>\n      <th>KEY SKILL 31</th>\n      <th>KEY SKILL 32</th>\n      <th>KEY SKILL 33</th>\n      <th>KEY SKILL 34</th>\n      <th>KEY SKILL 35</th>\n    </tr>\n  </thead>\n  <tbody>\n    <tr>\n      <th>0</th>\n      <td>Roles and ResponsibilitiesIntroductionSoftware...</td>\n      <td>Software Developer</td>\n      <td>Full Time, Permanent</td>\n      <td>Programming &amp; Design</td>\n      <td>Any Graduate in Any Specialization</td>\n      <td>Any Postgraduate in Any Specialization</td>\n      <td>Doctorate Not Required</td>\n      <td>IT-Software</td>\n      <td>Software Services</td>\n      <td>None</td>\n      <td>...</td>\n      <td>None</td>\n      <td>None</td>\n      <td>None</td>\n      <td>None</td>\n      <td>None</td>\n      <td>None</td>\n      <td>None</td>\n      <td>None</td>\n      <td>None</td>\n      <td>None</td>\n    </tr>\n    <tr>\n      <th>1</th>\n      <td>Role Summary        The Software Engineer is...</td>\n      <td>Software Developer</td>\n      <td>Full Time, Permanent</td>\n      <td>Programming &amp; Design</td>\n      <td>Any Graduate in Any Specialization</td>\n      <td>Any Postgraduate in Any Specialization</td>\n      <td>None</td>\n      <td>Automobile</td>\n      <td>Auto Anciliary</td>\n      <td>Auto Components</td>\n      <td>...</td>\n      <td>None</td>\n      <td>None</td>\n      <td>None</td>\n      <td>None</td>\n      <td>None</td>\n      <td>None</td>\n      <td>None</td>\n      <td>None</td>\n      <td>None</td>\n      <td>None</td>\n    </tr>\n    <tr>\n      <th>2</th>\n      <td>Job Description     Sr. Software Developer (J...</td>\n      <td>Software Developer</td>\n      <td>Full Time, Permanent</td>\n      <td>Programming &amp; Design</td>\n      <td>Any Graduate in Any Specialization</td>\n      <td>Post Graduation Not Required</td>\n      <td>None</td>\n      <td>IT-Software</td>\n      <td>Software Services</td>\n      <td>None</td>\n      <td>...</td>\n      <td>None</td>\n      <td>None</td>\n      <td>None</td>\n      <td>None</td>\n      <td>None</td>\n      <td>None</td>\n      <td>None</td>\n      <td>None</td>\n      <td>None</td>\n      <td>None</td>\n    </tr>\n    <tr>\n      <th>3</th>\n      <td>Job Description     Develop high-quality so...</td>\n      <td>Software Developer</td>\n      <td>Full Time, Permanent</td>\n      <td>Programming &amp; Design</td>\n      <td>Any Graduate in Any Specialization</td>\n      <td>Post Graduation Not Required</td>\n      <td>None</td>\n      <td>Recruitment</td>\n      <td>Staffing</td>\n      <td>None</td>\n      <td>...</td>\n      <td>None</td>\n      <td>None</td>\n      <td>None</td>\n      <td>None</td>\n      <td>None</td>\n      <td>None</td>\n      <td>None</td>\n      <td>None</td>\n      <td>None</td>\n      <td>None</td>\n    </tr>\n    <tr>\n      <th>4</th>\n      <td>Role: Software DeveloperJob Location: Ahmedaba...</td>\n      <td>Software Developer</td>\n      <td>Full Time, Permanent</td>\n      <td>Programming &amp; Design</td>\n      <td>Any Graduate in Any Specialization</td>\n      <td>None</td>\n      <td>None</td>\n      <td>IT-Software</td>\n      <td>Software Services</td>\n      <td>None</td>\n      <td>...</td>\n      <td>None</td>\n      <td>None</td>\n      <td>None</td>\n      <td>None</td>\n      <td>None</td>\n      <td>None</td>\n      <td>None</td>\n      <td>None</td>\n      <td>None</td>\n      <td>None</td>\n    </tr>\n  </tbody>\n</table>\n<p>5 rows × 53 columns</p>\n</div>"
     },
     "metadata": {},
     "execution_count": 51
    }
   ],
   "source": [
    "name_list = []\n",
    "for i in range(1,36):\n",
    "    name_list.append('KEY SKILL '+str(i))\n",
    "df[name_list] = df['KEY SKILL'].str.split(\",\", expand = True)\n",
    "df = df.drop(['INDUSTRY TYPE', 'FUNCTIONAL AREA', 'KEY SKILL', 'EDUCATION'], axis=1)\n",
    "df.head()"
   ]
  }
 ]
}
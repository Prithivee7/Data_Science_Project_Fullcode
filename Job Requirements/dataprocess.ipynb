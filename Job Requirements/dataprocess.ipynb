{
 "metadata": {
  "language_info": {
   "codemirror_mode": {
    "name": "ipython",
    "version": 3
   },
   "file_extension": ".py",
   "mimetype": "text/x-python",
   "name": "python",
   "nbconvert_exporter": "python",
   "pygments_lexer": "ipython3",
   "version": "3.8.7-final"
  },
  "orig_nbformat": 2,
  "kernelspec": {
   "name": "python3",
   "display_name": "Python 3.8.7 64-bit",
   "metadata": {
    "interpreter": {
     "hash": "bd9b9fa2e01573c04c615c80eb9deceb460a08e7f2fed43cdd24f3a908b6f3b1"
    }
   }
  }
 },
 "nbformat": 4,
 "nbformat_minor": 2,
 "cells": [
  {
   "cell_type": "code",
   "execution_count": 2,
   "metadata": {},
   "outputs": [],
   "source": [
    "import pandas as pd"
   ]
  },
  {
   "cell_type": "code",
   "execution_count": 3,
   "metadata": {},
   "outputs": [],
   "source": [
    "df = pd.read_csv('job_descriptions.csv', encoding='cp1252')"
   ]
  },
  {
   "cell_type": "code",
   "execution_count": 4,
   "metadata": {},
   "outputs": [
    {
     "output_type": "execute_result",
     "data": {
      "text/plain": [
       "(5038, 8)"
      ]
     },
     "metadata": {},
     "execution_count": 4
    }
   ],
   "source": [
    "df.shape"
   ]
  },
  {
   "cell_type": "code",
   "execution_count": 5,
   "metadata": {},
   "outputs": [
    {
     "output_type": "execute_result",
     "data": {
      "text/plain": [
       "                                     JOB DESCRIPTION                ROLE  \\\n",
       "0  Roles and ResponsibilitiesIntroductionSoftware...  Software Developer   \n",
       "1    Role Summary        The Software Engineer is...  Software Developer   \n",
       "2   Job Description     Sr. Software Developer (J...  Software Developer   \n",
       "3     Job Description     Develop high-quality so...  Software Developer   \n",
       "4  Role: Software DeveloperJob Location: Ahmedaba...  Software Developer   \n",
       "\n",
       "                                 INDUSTRY TYPE  \\\n",
       "0               IT-Software, Software Services   \n",
       "1  Automobile, Auto Anciliary, Auto Components   \n",
       "2               IT-Software, Software Services   \n",
       "3                        Recruitment, Staffing   \n",
       "4               IT-Software, Software Services   \n",
       "\n",
       "                                     FUNCTIONAL AREA      EMPLOYMENT TYPE  \\\n",
       "0     IT Software - Network Administration, Security  Full Time, Permanen   \n",
       "1  IT Software - Application Programming, Mainten...  Full Time, Permanen   \n",
       "2  IT Software - Application Programming, Mainten...  Full Time, Permanen   \n",
       "3  IT Software - Application Programming, Mainten...  Full Time, Permanen   \n",
       "4  IT Software - Application Programming, Mainten...  Full Time, Permanen   \n",
       "\n",
       "         ROLE CATEGORY                                          EDUCATION  \\\n",
       "0  Programming & Desig  {'UG': 'Any Graduate in Any Specialization', '...   \n",
       "1  Programming & Desig  {'UG': 'Any Graduate in Any Specialization', '...   \n",
       "2  Programming & Desig  {'UG': 'Any Graduate in Any Specialization', '...   \n",
       "3  Programming & Desig  {'UG': 'Any Graduate in Any Specialization', '...   \n",
       "4  Programming & Desig       {'UG': 'Any Graduate in Any Specialization'}   \n",
       "\n",
       "                                           KEY SKILL  \n",
       "0  ['Java', 'Cloud Computing', 'Python ', 'RAML',...  \n",
       "1  ['Computer science', 'Electrical engineering',...  \n",
       "2  ['Core Java', 'Programming', 'Data structures'...  \n",
       "3  ['Unix', 'Linux', 'SOA', 'XML', 'Project manag...  \n",
       "4  ['CSS', 'Front End', 'Web Technologies', 'Post...  "
      ],
      "text/html": "<div>\n<style scoped>\n    .dataframe tbody tr th:only-of-type {\n        vertical-align: middle;\n    }\n\n    .dataframe tbody tr th {\n        vertical-align: top;\n    }\n\n    .dataframe thead th {\n        text-align: right;\n    }\n</style>\n<table border=\"1\" class=\"dataframe\">\n  <thead>\n    <tr style=\"text-align: right;\">\n      <th></th>\n      <th>JOB DESCRIPTION</th>\n      <th>ROLE</th>\n      <th>INDUSTRY TYPE</th>\n      <th>FUNCTIONAL AREA</th>\n      <th>EMPLOYMENT TYPE</th>\n      <th>ROLE CATEGORY</th>\n      <th>EDUCATION</th>\n      <th>KEY SKILL</th>\n    </tr>\n  </thead>\n  <tbody>\n    <tr>\n      <th>0</th>\n      <td>Roles and ResponsibilitiesIntroductionSoftware...</td>\n      <td>Software Developer</td>\n      <td>IT-Software, Software Services</td>\n      <td>IT Software - Network Administration, Security</td>\n      <td>Full Time, Permanen</td>\n      <td>Programming &amp; Desig</td>\n      <td>{'UG': 'Any Graduate in Any Specialization', '...</td>\n      <td>['Java', 'Cloud Computing', 'Python ', 'RAML',...</td>\n    </tr>\n    <tr>\n      <th>1</th>\n      <td>Role Summary        The Software Engineer is...</td>\n      <td>Software Developer</td>\n      <td>Automobile, Auto Anciliary, Auto Components</td>\n      <td>IT Software - Application Programming, Mainten...</td>\n      <td>Full Time, Permanen</td>\n      <td>Programming &amp; Desig</td>\n      <td>{'UG': 'Any Graduate in Any Specialization', '...</td>\n      <td>['Computer science', 'Electrical engineering',...</td>\n    </tr>\n    <tr>\n      <th>2</th>\n      <td>Job Description     Sr. Software Developer (J...</td>\n      <td>Software Developer</td>\n      <td>IT-Software, Software Services</td>\n      <td>IT Software - Application Programming, Mainten...</td>\n      <td>Full Time, Permanen</td>\n      <td>Programming &amp; Desig</td>\n      <td>{'UG': 'Any Graduate in Any Specialization', '...</td>\n      <td>['Core Java', 'Programming', 'Data structures'...</td>\n    </tr>\n    <tr>\n      <th>3</th>\n      <td>Job Description     Develop high-quality so...</td>\n      <td>Software Developer</td>\n      <td>Recruitment, Staffing</td>\n      <td>IT Software - Application Programming, Mainten...</td>\n      <td>Full Time, Permanen</td>\n      <td>Programming &amp; Desig</td>\n      <td>{'UG': 'Any Graduate in Any Specialization', '...</td>\n      <td>['Unix', 'Linux', 'SOA', 'XML', 'Project manag...</td>\n    </tr>\n    <tr>\n      <th>4</th>\n      <td>Role: Software DeveloperJob Location: Ahmedaba...</td>\n      <td>Software Developer</td>\n      <td>IT-Software, Software Services</td>\n      <td>IT Software - Application Programming, Mainten...</td>\n      <td>Full Time, Permanen</td>\n      <td>Programming &amp; Desig</td>\n      <td>{'UG': 'Any Graduate in Any Specialization'}</td>\n      <td>['CSS', 'Front End', 'Web Technologies', 'Post...</td>\n    </tr>\n  </tbody>\n</table>\n</div>"
     },
     "metadata": {},
     "execution_count": 5
    }
   ],
   "source": [
    "df.head()"
   ]
  },
  {
   "cell_type": "code",
   "execution_count": 6,
   "metadata": {},
   "outputs": [],
   "source": [
    "df[['INDUSTRY TYPE 1', 'INDUSTRY TYPE 2', 'INDUSTRY TYPE 3', 'INDUSTRY TYPE 4', 'INDUSTRY TYPE 5']] = df[\"INDUSTRY TYPE\"].str.split(\",\", expand = True)"
   ]
  },
  {
   "cell_type": "code",
   "execution_count": 7,
   "metadata": {},
   "outputs": [
    {
     "output_type": "execute_result",
     "data": {
      "text/plain": [
       "                                     JOB DESCRIPTION                ROLE  \\\n",
       "0  Roles and ResponsibilitiesIntroductionSoftware...  Software Developer   \n",
       "1    Role Summary        The Software Engineer is...  Software Developer   \n",
       "2   Job Description     Sr. Software Developer (J...  Software Developer   \n",
       "3     Job Description     Develop high-quality so...  Software Developer   \n",
       "4  Role: Software DeveloperJob Location: Ahmedaba...  Software Developer   \n",
       "\n",
       "                                 INDUSTRY TYPE  \\\n",
       "0               IT-Software, Software Services   \n",
       "1  Automobile, Auto Anciliary, Auto Components   \n",
       "2               IT-Software, Software Services   \n",
       "3                        Recruitment, Staffing   \n",
       "4               IT-Software, Software Services   \n",
       "\n",
       "                                     FUNCTIONAL AREA      EMPLOYMENT TYPE  \\\n",
       "0     IT Software - Network Administration, Security  Full Time, Permanen   \n",
       "1  IT Software - Application Programming, Mainten...  Full Time, Permanen   \n",
       "2  IT Software - Application Programming, Mainten...  Full Time, Permanen   \n",
       "3  IT Software - Application Programming, Mainten...  Full Time, Permanen   \n",
       "4  IT Software - Application Programming, Mainten...  Full Time, Permanen   \n",
       "\n",
       "         ROLE CATEGORY                                          EDUCATION  \\\n",
       "0  Programming & Desig  {'UG': 'Any Graduate in Any Specialization', '...   \n",
       "1  Programming & Desig  {'UG': 'Any Graduate in Any Specialization', '...   \n",
       "2  Programming & Desig  {'UG': 'Any Graduate in Any Specialization', '...   \n",
       "3  Programming & Desig  {'UG': 'Any Graduate in Any Specialization', '...   \n",
       "4  Programming & Desig       {'UG': 'Any Graduate in Any Specialization'}   \n",
       "\n",
       "                                           KEY SKILL INDUSTRY TYPE 1  \\\n",
       "0  ['Java', 'Cloud Computing', 'Python ', 'RAML',...     IT-Software   \n",
       "1  ['Computer science', 'Electrical engineering',...      Automobile   \n",
       "2  ['Core Java', 'Programming', 'Data structures'...     IT-Software   \n",
       "3  ['Unix', 'Linux', 'SOA', 'XML', 'Project manag...     Recruitment   \n",
       "4  ['CSS', 'Front End', 'Web Technologies', 'Post...     IT-Software   \n",
       "\n",
       "      INDUSTRY TYPE 2   INDUSTRY TYPE 3 INDUSTRY TYPE 4 INDUSTRY TYPE 5  \n",
       "0   Software Services              None            None            None  \n",
       "1      Auto Anciliary   Auto Components            None            None  \n",
       "2   Software Services              None            None            None  \n",
       "3            Staffing              None            None            None  \n",
       "4   Software Services              None            None            None  "
      ],
      "text/html": "<div>\n<style scoped>\n    .dataframe tbody tr th:only-of-type {\n        vertical-align: middle;\n    }\n\n    .dataframe tbody tr th {\n        vertical-align: top;\n    }\n\n    .dataframe thead th {\n        text-align: right;\n    }\n</style>\n<table border=\"1\" class=\"dataframe\">\n  <thead>\n    <tr style=\"text-align: right;\">\n      <th></th>\n      <th>JOB DESCRIPTION</th>\n      <th>ROLE</th>\n      <th>INDUSTRY TYPE</th>\n      <th>FUNCTIONAL AREA</th>\n      <th>EMPLOYMENT TYPE</th>\n      <th>ROLE CATEGORY</th>\n      <th>EDUCATION</th>\n      <th>KEY SKILL</th>\n      <th>INDUSTRY TYPE 1</th>\n      <th>INDUSTRY TYPE 2</th>\n      <th>INDUSTRY TYPE 3</th>\n      <th>INDUSTRY TYPE 4</th>\n      <th>INDUSTRY TYPE 5</th>\n    </tr>\n  </thead>\n  <tbody>\n    <tr>\n      <th>0</th>\n      <td>Roles and ResponsibilitiesIntroductionSoftware...</td>\n      <td>Software Developer</td>\n      <td>IT-Software, Software Services</td>\n      <td>IT Software - Network Administration, Security</td>\n      <td>Full Time, Permanen</td>\n      <td>Programming &amp; Desig</td>\n      <td>{'UG': 'Any Graduate in Any Specialization', '...</td>\n      <td>['Java', 'Cloud Computing', 'Python ', 'RAML',...</td>\n      <td>IT-Software</td>\n      <td>Software Services</td>\n      <td>None</td>\n      <td>None</td>\n      <td>None</td>\n    </tr>\n    <tr>\n      <th>1</th>\n      <td>Role Summary        The Software Engineer is...</td>\n      <td>Software Developer</td>\n      <td>Automobile, Auto Anciliary, Auto Components</td>\n      <td>IT Software - Application Programming, Mainten...</td>\n      <td>Full Time, Permanen</td>\n      <td>Programming &amp; Desig</td>\n      <td>{'UG': 'Any Graduate in Any Specialization', '...</td>\n      <td>['Computer science', 'Electrical engineering',...</td>\n      <td>Automobile</td>\n      <td>Auto Anciliary</td>\n      <td>Auto Components</td>\n      <td>None</td>\n      <td>None</td>\n    </tr>\n    <tr>\n      <th>2</th>\n      <td>Job Description     Sr. Software Developer (J...</td>\n      <td>Software Developer</td>\n      <td>IT-Software, Software Services</td>\n      <td>IT Software - Application Programming, Mainten...</td>\n      <td>Full Time, Permanen</td>\n      <td>Programming &amp; Desig</td>\n      <td>{'UG': 'Any Graduate in Any Specialization', '...</td>\n      <td>['Core Java', 'Programming', 'Data structures'...</td>\n      <td>IT-Software</td>\n      <td>Software Services</td>\n      <td>None</td>\n      <td>None</td>\n      <td>None</td>\n    </tr>\n    <tr>\n      <th>3</th>\n      <td>Job Description     Develop high-quality so...</td>\n      <td>Software Developer</td>\n      <td>Recruitment, Staffing</td>\n      <td>IT Software - Application Programming, Mainten...</td>\n      <td>Full Time, Permanen</td>\n      <td>Programming &amp; Desig</td>\n      <td>{'UG': 'Any Graduate in Any Specialization', '...</td>\n      <td>['Unix', 'Linux', 'SOA', 'XML', 'Project manag...</td>\n      <td>Recruitment</td>\n      <td>Staffing</td>\n      <td>None</td>\n      <td>None</td>\n      <td>None</td>\n    </tr>\n    <tr>\n      <th>4</th>\n      <td>Role: Software DeveloperJob Location: Ahmedaba...</td>\n      <td>Software Developer</td>\n      <td>IT-Software, Software Services</td>\n      <td>IT Software - Application Programming, Mainten...</td>\n      <td>Full Time, Permanen</td>\n      <td>Programming &amp; Desig</td>\n      <td>{'UG': 'Any Graduate in Any Specialization'}</td>\n      <td>['CSS', 'Front End', 'Web Technologies', 'Post...</td>\n      <td>IT-Software</td>\n      <td>Software Services</td>\n      <td>None</td>\n      <td>None</td>\n      <td>None</td>\n    </tr>\n  </tbody>\n</table>\n</div>"
     },
     "metadata": {},
     "execution_count": 7
    }
   ],
   "source": [
    "df.head()"
   ]
  },
  {
   "cell_type": "code",
   "execution_count": 8,
   "metadata": {},
   "outputs": [],
   "source": [
    "df[['FUNCTIONAL AREA 1', 'FUNCTIONAL AREA 2', 'FUNCTIONAL AREA 3', 'FUNCTIONAL AREA 4', 'FUNCTIONAL AREA 5', 'FUNCTIONAL AREA 5']] = df[\"FUNCTIONAL AREA\"].str.split(\",\", expand = True)"
   ]
  },
  {
   "cell_type": "code",
   "execution_count": 9,
   "metadata": {},
   "outputs": [
    {
     "output_type": "execute_result",
     "data": {
      "text/plain": [
       "                                     JOB DESCRIPTION                ROLE  \\\n",
       "0  Roles and ResponsibilitiesIntroductionSoftware...  Software Developer   \n",
       "1    Role Summary        The Software Engineer is...  Software Developer   \n",
       "2   Job Description     Sr. Software Developer (J...  Software Developer   \n",
       "3     Job Description     Develop high-quality so...  Software Developer   \n",
       "4  Role: Software DeveloperJob Location: Ahmedaba...  Software Developer   \n",
       "\n",
       "                                 INDUSTRY TYPE  \\\n",
       "0               IT-Software, Software Services   \n",
       "1  Automobile, Auto Anciliary, Auto Components   \n",
       "2               IT-Software, Software Services   \n",
       "3                        Recruitment, Staffing   \n",
       "4               IT-Software, Software Services   \n",
       "\n",
       "                                     FUNCTIONAL AREA      EMPLOYMENT TYPE  \\\n",
       "0     IT Software - Network Administration, Security  Full Time, Permanen   \n",
       "1  IT Software - Application Programming, Mainten...  Full Time, Permanen   \n",
       "2  IT Software - Application Programming, Mainten...  Full Time, Permanen   \n",
       "3  IT Software - Application Programming, Mainten...  Full Time, Permanen   \n",
       "4  IT Software - Application Programming, Mainten...  Full Time, Permanen   \n",
       "\n",
       "         ROLE CATEGORY                                          EDUCATION  \\\n",
       "0  Programming & Desig  {'UG': 'Any Graduate in Any Specialization', '...   \n",
       "1  Programming & Desig  {'UG': 'Any Graduate in Any Specialization', '...   \n",
       "2  Programming & Desig  {'UG': 'Any Graduate in Any Specialization', '...   \n",
       "3  Programming & Desig  {'UG': 'Any Graduate in Any Specialization', '...   \n",
       "4  Programming & Desig       {'UG': 'Any Graduate in Any Specialization'}   \n",
       "\n",
       "                                           KEY SKILL INDUSTRY TYPE 1  \\\n",
       "0  ['Java', 'Cloud Computing', 'Python ', 'RAML',...     IT-Software   \n",
       "1  ['Computer science', 'Electrical engineering',...      Automobile   \n",
       "2  ['Core Java', 'Programming', 'Data structures'...     IT-Software   \n",
       "3  ['Unix', 'Linux', 'SOA', 'XML', 'Project manag...     Recruitment   \n",
       "4  ['CSS', 'Front End', 'Web Technologies', 'Post...     IT-Software   \n",
       "\n",
       "      INDUSTRY TYPE 2   INDUSTRY TYPE 3 INDUSTRY TYPE 4 INDUSTRY TYPE 5  \\\n",
       "0   Software Services              None            None            None   \n",
       "1      Auto Anciliary   Auto Components            None            None   \n",
       "2   Software Services              None            None            None   \n",
       "3            Staffing              None            None            None   \n",
       "4   Software Services              None            None            None   \n",
       "\n",
       "                       FUNCTIONAL AREA 1 FUNCTIONAL AREA 2 FUNCTIONAL AREA 3  \\\n",
       "0   IT Software - Network Administration          Security              None   \n",
       "1  IT Software - Application Programming       Maintenance              None   \n",
       "2  IT Software - Application Programming       Maintenance              None   \n",
       "3  IT Software - Application Programming       Maintenance              None   \n",
       "4  IT Software - Application Programming       Maintenance              None   \n",
       "\n",
       "  FUNCTIONAL AREA 4 FUNCTIONAL AREA 5  \n",
       "0              None              None  \n",
       "1              None              None  \n",
       "2              None              None  \n",
       "3              None              None  \n",
       "4              None              None  "
      ],
      "text/html": "<div>\n<style scoped>\n    .dataframe tbody tr th:only-of-type {\n        vertical-align: middle;\n    }\n\n    .dataframe tbody tr th {\n        vertical-align: top;\n    }\n\n    .dataframe thead th {\n        text-align: right;\n    }\n</style>\n<table border=\"1\" class=\"dataframe\">\n  <thead>\n    <tr style=\"text-align: right;\">\n      <th></th>\n      <th>JOB DESCRIPTION</th>\n      <th>ROLE</th>\n      <th>INDUSTRY TYPE</th>\n      <th>FUNCTIONAL AREA</th>\n      <th>EMPLOYMENT TYPE</th>\n      <th>ROLE CATEGORY</th>\n      <th>EDUCATION</th>\n      <th>KEY SKILL</th>\n      <th>INDUSTRY TYPE 1</th>\n      <th>INDUSTRY TYPE 2</th>\n      <th>INDUSTRY TYPE 3</th>\n      <th>INDUSTRY TYPE 4</th>\n      <th>INDUSTRY TYPE 5</th>\n      <th>FUNCTIONAL AREA 1</th>\n      <th>FUNCTIONAL AREA 2</th>\n      <th>FUNCTIONAL AREA 3</th>\n      <th>FUNCTIONAL AREA 4</th>\n      <th>FUNCTIONAL AREA 5</th>\n    </tr>\n  </thead>\n  <tbody>\n    <tr>\n      <th>0</th>\n      <td>Roles and ResponsibilitiesIntroductionSoftware...</td>\n      <td>Software Developer</td>\n      <td>IT-Software, Software Services</td>\n      <td>IT Software - Network Administration, Security</td>\n      <td>Full Time, Permanen</td>\n      <td>Programming &amp; Desig</td>\n      <td>{'UG': 'Any Graduate in Any Specialization', '...</td>\n      <td>['Java', 'Cloud Computing', 'Python ', 'RAML',...</td>\n      <td>IT-Software</td>\n      <td>Software Services</td>\n      <td>None</td>\n      <td>None</td>\n      <td>None</td>\n      <td>IT Software - Network Administration</td>\n      <td>Security</td>\n      <td>None</td>\n      <td>None</td>\n      <td>None</td>\n    </tr>\n    <tr>\n      <th>1</th>\n      <td>Role Summary        The Software Engineer is...</td>\n      <td>Software Developer</td>\n      <td>Automobile, Auto Anciliary, Auto Components</td>\n      <td>IT Software - Application Programming, Mainten...</td>\n      <td>Full Time, Permanen</td>\n      <td>Programming &amp; Desig</td>\n      <td>{'UG': 'Any Graduate in Any Specialization', '...</td>\n      <td>['Computer science', 'Electrical engineering',...</td>\n      <td>Automobile</td>\n      <td>Auto Anciliary</td>\n      <td>Auto Components</td>\n      <td>None</td>\n      <td>None</td>\n      <td>IT Software - Application Programming</td>\n      <td>Maintenance</td>\n      <td>None</td>\n      <td>None</td>\n      <td>None</td>\n    </tr>\n    <tr>\n      <th>2</th>\n      <td>Job Description     Sr. Software Developer (J...</td>\n      <td>Software Developer</td>\n      <td>IT-Software, Software Services</td>\n      <td>IT Software - Application Programming, Mainten...</td>\n      <td>Full Time, Permanen</td>\n      <td>Programming &amp; Desig</td>\n      <td>{'UG': 'Any Graduate in Any Specialization', '...</td>\n      <td>['Core Java', 'Programming', 'Data structures'...</td>\n      <td>IT-Software</td>\n      <td>Software Services</td>\n      <td>None</td>\n      <td>None</td>\n      <td>None</td>\n      <td>IT Software - Application Programming</td>\n      <td>Maintenance</td>\n      <td>None</td>\n      <td>None</td>\n      <td>None</td>\n    </tr>\n    <tr>\n      <th>3</th>\n      <td>Job Description     Develop high-quality so...</td>\n      <td>Software Developer</td>\n      <td>Recruitment, Staffing</td>\n      <td>IT Software - Application Programming, Mainten...</td>\n      <td>Full Time, Permanen</td>\n      <td>Programming &amp; Desig</td>\n      <td>{'UG': 'Any Graduate in Any Specialization', '...</td>\n      <td>['Unix', 'Linux', 'SOA', 'XML', 'Project manag...</td>\n      <td>Recruitment</td>\n      <td>Staffing</td>\n      <td>None</td>\n      <td>None</td>\n      <td>None</td>\n      <td>IT Software - Application Programming</td>\n      <td>Maintenance</td>\n      <td>None</td>\n      <td>None</td>\n      <td>None</td>\n    </tr>\n    <tr>\n      <th>4</th>\n      <td>Role: Software DeveloperJob Location: Ahmedaba...</td>\n      <td>Software Developer</td>\n      <td>IT-Software, Software Services</td>\n      <td>IT Software - Application Programming, Mainten...</td>\n      <td>Full Time, Permanen</td>\n      <td>Programming &amp; Desig</td>\n      <td>{'UG': 'Any Graduate in Any Specialization'}</td>\n      <td>['CSS', 'Front End', 'Web Technologies', 'Post...</td>\n      <td>IT-Software</td>\n      <td>Software Services</td>\n      <td>None</td>\n      <td>None</td>\n      <td>None</td>\n      <td>IT Software - Application Programming</td>\n      <td>Maintenance</td>\n      <td>None</td>\n      <td>None</td>\n      <td>None</td>\n    </tr>\n  </tbody>\n</table>\n</div>"
     },
     "metadata": {},
     "execution_count": 9
    }
   ],
   "source": [
    "df.head()"
   ]
  }
 ]
}
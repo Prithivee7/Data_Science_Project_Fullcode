{
 "metadata": {
  "language_info": {
   "codemirror_mode": {
    "name": "ipython",
    "version": 3
   },
   "file_extension": ".py",
   "mimetype": "text/x-python",
   "name": "python",
   "nbconvert_exporter": "python",
   "pygments_lexer": "ipython3",
   "version": "3.8.2-final"
  },
  "orig_nbformat": 2,
  "kernelspec": {
   "name": "python3",
   "display_name": "Python 3.8.2 32-bit",
   "metadata": {
    "interpreter": {
     "hash": "249919e00f7501aeebb24f2baedf1eaa50db3da7679bc878c9a66c582c667356"
    }
   }
  }
 },
 "nbformat": 4,
 "nbformat_minor": 2,
 "cells": [
  {
   "cell_type": "code",
   "execution_count": null,
   "metadata": {},
   "outputs": [],
   "source": [
    "import json \n",
    "import csv \n",
    "import os"
   ]
  },
  {
   "cell_type": "code",
   "execution_count": null,
   "metadata": {},
   "outputs": [],
   "source": [
    "job_descriptions = open('Job Requirements.csv', 'w', newline='')\n",
    "csv_writer = csv.writer(job_descriptions)\n",
    "count = 0\n",
    "for file in os.listdir('./Updated_Job_Requirements'):\n",
    "    path = './Updated_Job_Requirements/{0}'.format(file)\n",
    "    # print(path)\n",
    "    with open(path) as f:\n",
    "        data = json.load(f)\n",
    "    if count == 0:\n",
    "        header = data.keys() \n",
    "        csv_writer.writerow(header) \n",
    "        count += 1\n",
    "    for i in data.keys():\n",
    "        if u'\\u20b9' in data[i]:\n",
    "            data[i] = data[i].replace(u'\\u20b9','')\n",
    "    csv_writer.writerow(data.values())\n",
    "job_descriptions.close()"
   ]
  },
  {
   "cell_type": "code",
   "execution_count": null,
   "metadata": {},
   "outputs": [],
   "source": []
  }
 ]
}